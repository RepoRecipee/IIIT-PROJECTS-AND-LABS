{
  "nbformat": 4,
  "nbformat_minor": 0,
  "metadata": {
    "colab": {
      "provenance": [],
      "authorship_tag": "ABX9TyPaMQWE/kE+Umc3jnI3cMpe",
      "include_colab_link": true
    },
    "kernelspec": {
      "name": "python3",
      "display_name": "Python 3"
    },
    "language_info": {
      "name": "python"
    }
  },
  "cells": [
    {
      "cell_type": "markdown",
      "metadata": {
        "id": "view-in-github",
        "colab_type": "text"
      },
      "source": [
        "<a href=\"https://colab.research.google.com/github/RepoRecipee/IIIT-PROJECTS-AND-LABS/blob/main/MY%20FIRST%20ASSIGNMENT(Linear__Algebra).ipynb\" target=\"_parent\"><img src=\"https://colab.research.google.com/assets/colab-badge.svg\" alt=\"Open In Colab\"/></a>"
      ]
    },
    {
      "cell_type": "code",
      "execution_count": null,
      "metadata": {
        "id": "4fFTrejxqUEP"
      },
      "outputs": [],
      "source": []
    },
    {
      "cell_type": "markdown",
      "source": [
        "Utilize the NumPy library for Linear Algebra operations and employ Matplotlib for plotting purposes."
      ],
      "metadata": {
        "id": "tFyIJp_Mquw3"
      }
    },
    {
      "cell_type": "code",
      "source": [
        "import numpy as np\n",
        "import matplotlib.pyplot as plt\n"
      ],
      "metadata": {
        "id": "24Axuo7HqyS8"
      },
      "execution_count": 7,
      "outputs": []
    },
    {
      "cell_type": "markdown",
      "source": [
        "finding the transpose of a nested list using NumPy method.,"
      ],
      "metadata": {
        "id": "mdWEZhALrzmL"
      }
    },
    {
      "cell_type": "code",
      "source": [
        "a=[[13,10,23],[27,1,17]]\n",
        "b=np.transpose(a)\n",
        "print('a\\n',a)\n",
        "print('b\\n',b)"
      ],
      "metadata": {
        "colab": {
          "base_uri": "https://localhost:8080/"
        },
        "id": "poZeAAsOssZa",
        "outputId": "937f2890-8d15-47f5-ecc2-cb36c6789721"
      },
      "execution_count": 8,
      "outputs": [
        {
          "output_type": "stream",
          "name": "stdout",
          "text": [
            "a\n",
            " [[13, 10, 23], [27, 1, 17]]\n",
            "b\n",
            " [[13 27]\n",
            " [10  1]\n",
            " [23 17]]\n"
          ]
        }
      ]
    },
    {
      "cell_type": "code",
      "source": [
        "!pip install numpy\n"
      ],
      "metadata": {
        "colab": {
          "base_uri": "https://localhost:8080/"
        },
        "id": "YFY4cltSuZMg",
        "outputId": "8613fd67-3f01-465d-8d02-b2266120f8a0"
      },
      "execution_count": 4,
      "outputs": [
        {
          "output_type": "stream",
          "name": "stdout",
          "text": [
            "Requirement already satisfied: numpy in /usr/local/lib/python3.10/dist-packages (1.25.2)\n"
          ]
        }
      ]
    },
    {
      "cell_type": "markdown",
      "source": [
        "If Matrix is a Numpy array"
      ],
      "metadata": {
        "id": "VQE82uYMyA32"
      }
    },
    {
      "cell_type": "code",
      "source": [
        "matrix=np.array([[7,8,9,10],[1,2,9,5]])\n",
        "transpose_matrix=matrix.T\n",
        "print(\"original matrix\")\n",
        "print(matrix)\n",
        "print(\"\\ntranspose Matrix:\")\n",
        "print(transpose_matrix)"
      ],
      "metadata": {
        "colab": {
          "base_uri": "https://localhost:8080/"
        },
        "id": "y9u4qdK1yW2n",
        "outputId": "0669314b-7f8d-4cf2-922d-7bb017eb5e0c"
      },
      "execution_count": 11,
      "outputs": [
        {
          "output_type": "stream",
          "name": "stdout",
          "text": [
            "original matrix\n",
            "[[ 7  8  9 10]\n",
            " [ 1  2  9  5]]\n",
            "\n",
            "transpose Matrix:\n",
            "[[ 7  1]\n",
            " [ 8  2]\n",
            " [ 9  9]\n",
            " [10  5]]\n"
          ]
        }
      ]
    },
    {
      "cell_type": "markdown",
      "source": [
        "Transpose of Multidimensional Array"
      ],
      "metadata": {
        "id": "UOz8oa9h0oBI"
      }
    },
    {
      "cell_type": "code",
      "source": [
        "array = np.array([[[1, 2, 3],\n",
        "                   [4, 5, 6]],\n",
        "\n",
        "                  [[7, 8, 9],\n",
        "                   [10, 11, 12]]])\n",
        "print(\"Original Array:\")\n",
        "print(array)\n",
        "transposed_array = np.transpose(array, axes=(1, 0, 2))\n",
        "print(\"\\nTransposed Array:\")\n",
        "print(transposed_array)"
      ],
      "metadata": {
        "colab": {
          "base_uri": "https://localhost:8080/"
        },
        "id": "Ny5UhAME0tmE",
        "outputId": "158afcc5-87c1-4ba4-d6d4-4ab1cdc7b432"
      },
      "execution_count": 12,
      "outputs": [
        {
          "output_type": "stream",
          "name": "stdout",
          "text": [
            "Original Array:\n",
            "[[[ 1  2  3]\n",
            "  [ 4  5  6]]\n",
            "\n",
            " [[ 7  8  9]\n",
            "  [10 11 12]]]\n",
            "\n",
            "Transposed Array:\n",
            "[[[ 1  2  3]\n",
            "  [ 7  8  9]]\n",
            "\n",
            " [[ 4  5  6]\n",
            "  [10 11 12]]]\n"
          ]
        }
      ]
    },
    {
      "cell_type": "markdown",
      "source": [
        "The dot method of NumPy performs dot-matrix product for 1D"
      ],
      "metadata": {
        "id": "RXRKrk-r1jtv"
      }
    },
    {
      "cell_type": "code",
      "source": [
        "a=9\n",
        "b=4\n",
        "result=np.dot(a,b)\n",
        "print(result)"
      ],
      "metadata": {
        "colab": {
          "base_uri": "https://localhost:8080/"
        },
        "id": "_AXA8Amz1qnP",
        "outputId": "76d72ffb-26f2-4a41-f63a-ce899fc3e911"
      },
      "execution_count": 13,
      "outputs": [
        {
          "output_type": "stream",
          "name": "stdout",
          "text": [
            "36\n"
          ]
        }
      ]
    },
    {
      "cell_type": "markdown",
      "source": [
        "The dot method of NumPy performs on High Dimensional **arrays**"
      ],
      "metadata": {
        "id": "v1B3ci3I11h0"
      }
    },
    {
      "cell_type": "code",
      "source": [
        "a=np.array([1,2,3])\n",
        "b=np.array([6,9,3])\n",
        "result=np.dot(a,b)\n",
        "print(\"the dot of high dimensional arrays\")\n",
        "print(result)"
      ],
      "metadata": {
        "colab": {
          "base_uri": "https://localhost:8080/"
        },
        "id": "tTKN05JU2I0A",
        "outputId": "84d8a00b-4dbf-48b4-a3cd-0e6152f4fb6c"
      },
      "execution_count": 14,
      "outputs": [
        {
          "output_type": "stream",
          "name": "stdout",
          "text": [
            "the dot of high dimensional arrays\n",
            "33\n"
          ]
        }
      ]
    },
    {
      "cell_type": "markdown",
      "source": [
        "The dot method of NumPy performs on **2D **"
      ],
      "metadata": {
        "id": "16c3B2ld2x70"
      }
    },
    {
      "cell_type": "code",
      "source": [
        "a=np.array([[[1,2,3],[4,8,5],[6,0,1]]])\n",
        "b=np.array([[[5,6,7],[9,6,8],[1,3,2]]])\n",
        "result=np.dot(a,b)\n",
        "print(result)"
      ],
      "metadata": {
        "colab": {
          "base_uri": "https://localhost:8080/"
        },
        "id": "ncVTinOZ3I5f",
        "outputId": "da11fa69-91d2-4dca-c3e0-c3313a4a54b3"
      },
      "execution_count": 16,
      "outputs": [
        {
          "output_type": "stream",
          "name": "stdout",
          "text": [
            "[[[[ 26  27  29]]\n",
            "\n",
            "  [[ 97  87 102]]\n",
            "\n",
            "  [[ 31  39  44]]]]\n"
          ]
        }
      ]
    },
    {
      "cell_type": "markdown",
      "source": [
        "The np.matmul() function in NumPy is used for matrix multiplication. It computes the matrix product of two arrays, resulting in a new array."
      ],
      "metadata": {
        "id": "a78iLHsc3562"
      }
    },
    {
      "cell_type": "code",
      "source": [
        "result=np.matmul(a,b)\n",
        "print(result)"
      ],
      "metadata": {
        "colab": {
          "base_uri": "https://localhost:8080/"
        },
        "id": "RFQy0Eg-38JJ",
        "outputId": "efe9497d-b38a-44ef-9467-b2f38bee6353"
      },
      "execution_count": 17,
      "outputs": [
        {
          "output_type": "stream",
          "name": "stdout",
          "text": [
            "[[[ 26  27  29]\n",
            "  [ 97  87 102]\n",
            "  [ 31  39  44]]]\n"
          ]
        }
      ]
    },
    {
      "cell_type": "markdown",
      "source": [
        "# **Numpy Arrays**"
      ],
      "metadata": {
        "id": "O4zphNhp4-BS"
      }
    },
    {
      "cell_type": "markdown",
      "source": [
        "A NumPy array is a Numpy object upon which the dot method can be performed as below"
      ],
      "metadata": {
        "id": "q3-_3evG5J1T"
      }
    },
    {
      "cell_type": "code",
      "source": [
        "one=np.array(a)\n",
        "two=np.array(b)\n",
        "result=one.dot(two)\n",
        "print(result)"
      ],
      "metadata": {
        "colab": {
          "base_uri": "https://localhost:8080/"
        },
        "id": "cwzotCbg5Pc2",
        "outputId": "3aa357e7-aee3-4201-fb82-623e044db97e"
      },
      "execution_count": 18,
      "outputs": [
        {
          "output_type": "stream",
          "name": "stdout",
          "text": [
            "[[[[ 26  27  29]]\n",
            "\n",
            "  [[ 97  87 102]]\n",
            "\n",
            "  [[ 31  39  44]]]]\n"
          ]
        }
      ]
    },
    {
      "cell_type": "markdown",
      "source": [
        "## multi_dot method"
      ],
      "metadata": {
        "id": "snf-sWlF8Wdo"
      }
    },
    {
      "cell_type": "markdown",
      "source": [
        "Performing Dot product with 2 or more Matrices\n"
      ],
      "metadata": {
        "id": "aUKeWRf58kdB"
      }
    },
    {
      "cell_type": "code",
      "source": [
        "# matrices with random integers: entries ranging from -7 to 7\n",
        "a=np.random.randint(-7,7,(200,7))\n",
        "b=np.random.randint(-7,7,(7,10))\n",
        "c=np.random.randint(-7,7,(10,87))\n",
        "d=np.random.randint(-7,7,(87,9))\n",
        "# multiple matrix multiplication\n",
        "result=np.linalg.multi_dot([a,b,c,d])\n",
        "\n"
      ],
      "metadata": {
        "id": "dmnNy17X-3qE"
      },
      "execution_count": 94,
      "outputs": []
    },
    {
      "cell_type": "code",
      "source": [
        "%%time\n",
        " z = np.linalg.multi_dot([a,b,c,d])\n",
        " print(z, '\\n')"
      ],
      "metadata": {
        "colab": {
          "base_uri": "https://localhost:8080/"
        },
        "id": "k0A-3dfKbRK6",
        "outputId": "4a3fd013-6332-4943-dfc7-ac2df07aaa21"
      },
      "execution_count": 95,
      "outputs": [
        {
          "output_type": "stream",
          "name": "stdout",
          "text": [
            "[[ -8279 -32146  13995 ...   1711   2095  47329]\n",
            " [ -6061  13593 -22247 ...  17876  16053 -19157]\n",
            " [ -7191  13843   3933 ... -13720 -14915 -18699]\n",
            " ...\n",
            " [-36094  25459   9022 ... -21355 -16876  -8302]\n",
            " [ 15701 -40705  17323 ...  -8833 -12258  12535]\n",
            " [  2443  24485  -6928 ... -18985 -17833 -21571]] \n",
            "\n",
            "CPU times: user 2.1 ms, sys: 0 ns, total: 2.1 ms\n",
            "Wall time: 2.1 ms\n"
          ]
        }
      ]
    },
    {
      "cell_type": "code",
      "source": [
        "%%time\n",
        "result=a.dot(b).dot(c).dot(d)\n",
        "print(result)"
      ],
      "metadata": {
        "colab": {
          "base_uri": "https://localhost:8080/"
        },
        "id": "eh_Y0R70_aBV",
        "outputId": "628cae71-dfd2-4326-85c6-8159b5fbc602"
      },
      "execution_count": 29,
      "outputs": [
        {
          "output_type": "stream",
          "name": "stdout",
          "text": [
            "[[-39373 -20144 -30273 ... -18168  13626  17994]\n",
            " [ 10764  16443   6067 ...  29317 -34035  24315]\n",
            " [ -2188   -455 -26111 ... -25460  15720 -15300]\n",
            " ...\n",
            " [-21270 -12366  21099 ...  10414  -3855  14657]\n",
            " [ -5047    361  10211 ...   5869   -788  22000]\n",
            " [ 27316  23516 -12805 ...   9842 -17355  23631]]\n",
            "CPU times: user 2.08 ms, sys: 0 ns, total: 2.08 ms\n",
            "Wall time: 2.08 ms\n"
          ]
        }
      ]
    },
    {
      "cell_type": "markdown",
      "source": [
        "Comparing the CPU time consumed by np.linalg.multi_dot() versus successive dot methods (a.dot(b).dot(c)) for arriving at the same solution can provide insights into their efficiency."
      ],
      "metadata": {
        "id": "IlDiLdLf_5Dz"
      }
    },
    {
      "cell_type": "markdown",
      "source": [],
      "metadata": {
        "id": "Q-5_YlVE_6W7"
      }
    },
    {
      "cell_type": "markdown",
      "source": [
        "**Inner** **Product**"
      ],
      "metadata": {
        "id": "EZJ2zXBJAClk"
      }
    },
    {
      "cell_type": "markdown",
      "source": [
        "The inner product, also known as the dot product in the context of vectors, is a fundamental operation in linear algebra"
      ],
      "metadata": {
        "id": "4-STRKkjANEW"
      }
    },
    {
      "cell_type": "code",
      "source": [
        "a=np.array([1,9,0])\n",
        "b=np.array([7,9,4])\n",
        "result=np.inner(a,b)\n",
        "print(\"inner product\")\n",
        "print(result)"
      ],
      "metadata": {
        "colab": {
          "base_uri": "https://localhost:8080/"
        },
        "id": "fvfd1cV9AiWt",
        "outputId": "f08818b9-341c-4534-d8a9-ff077c7c834a"
      },
      "execution_count": 32,
      "outputs": [
        {
          "output_type": "stream",
          "name": "stdout",
          "text": [
            "inner product\n",
            "88\n"
          ]
        }
      ]
    },
    {
      "cell_type": "code",
      "source": [
        "result2=np.dot(a,b)\n",
        "print(result2)"
      ],
      "metadata": {
        "colab": {
          "base_uri": "https://localhost:8080/"
        },
        "id": "1l8s_KxdA7YB",
        "outputId": "3a86d15e-53b2-4a0b-f868-fdd443d0ed1b"
      },
      "execution_count": 33,
      "outputs": [
        {
          "output_type": "stream",
          "name": "stdout",
          "text": [
            "88\n"
          ]
        }
      ]
    },
    {
      "cell_type": "markdown",
      "source": [
        "#same result for both inner and dot product"
      ],
      "metadata": {
        "id": "UNTkJqw3BBbo"
      }
    },
    {
      "cell_type": "markdown",
      "source": [
        "**Outer** **product**"
      ],
      "metadata": {
        "id": "TgIwsrVJBfnv"
      }
    },
    {
      "cell_type": "markdown",
      "source": [
        "In NumPy, you can compute the outer product of two vectors using the np.outer() function."
      ],
      "metadata": {
        "id": "1MSRyiVxBj6O"
      }
    },
    {
      "cell_type": "code",
      "source": [
        "a=np.array([1,3,2])\n",
        "b=np.array([9,8,5])\n",
        "result=np.outer(a,b)\n",
        "print(result)"
      ],
      "metadata": {
        "colab": {
          "base_uri": "https://localhost:8080/"
        },
        "id": "BfP6r7Q5B1AF",
        "outputId": "60a665a7-31e9-4654-845f-f5e5fb3c7bc2"
      },
      "execution_count": 34,
      "outputs": [
        {
          "output_type": "stream",
          "name": "stdout",
          "text": [
            "[[ 9  8  5]\n",
            " [27 24 15]\n",
            " [18 16 10]]\n"
          ]
        }
      ]
    },
    {
      "cell_type": "markdown",
      "source": [
        "@ operator is used for matrix multiplication"
      ],
      "metadata": {
        "id": "ZsTJvZ2NCqhs"
      }
    },
    {
      "cell_type": "code",
      "source": [
        "matrix_a = np.array([[1, 2], [3, 4]])\n",
        "matrix_b = np.array([[5, 6], [7, 8]])\n",
        "result_matrix = matrix_a @ matrix_b\n",
        "\n",
        "print(\"Matrix multiplication using @ operator:\")\n",
        "print(result_matrix)"
      ],
      "metadata": {
        "colab": {
          "base_uri": "https://localhost:8080/"
        },
        "id": "-UGJqxzPCs25",
        "outputId": "003398c1-14d8-4df0-a9d3-4f168bb36312"
      },
      "execution_count": 35,
      "outputs": [
        {
          "output_type": "stream",
          "name": "stdout",
          "text": [
            "Matrix multiplication using @ operator:\n",
            "[[19 22]\n",
            " [43 50]]\n"
          ]
        }
      ]
    },
    {
      "cell_type": "code",
      "source": [
        "print(result_matrix.shape)"
      ],
      "metadata": {
        "colab": {
          "base_uri": "https://localhost:8080/"
        },
        "id": "3ZOqgSTkC78K",
        "outputId": "00117a8d-69e0-4e2e-e608-e4132d62f071"
      },
      "execution_count": 36,
      "outputs": [
        {
          "output_type": "stream",
          "name": "stdout",
          "text": [
            "(2, 2)\n"
          ]
        }
      ]
    },
    {
      "cell_type": "markdown",
      "source": [
        "**Matrix Determinant**"
      ],
      "metadata": {
        "id": "7XhFYapqKZip"
      }
    },
    {
      "cell_type": "code",
      "source": [
        "a=np.random.randint(7,18,[4,4])\n",
        "result=np.linalg.det(a)\n",
        "print(result)"
      ],
      "metadata": {
        "colab": {
          "base_uri": "https://localhost:8080/"
        },
        "id": "rrmitHrkKc7R",
        "outputId": "b00ae19a-78f7-41a7-fcee-86fa7d0a19a8"
      },
      "execution_count": 40,
      "outputs": [
        {
          "output_type": "stream",
          "name": "stdout",
          "text": [
            "455.9999999999998\n"
          ]
        }
      ]
    },
    {
      "cell_type": "markdown",
      "source": [],
      "metadata": {
        "id": "AGiA-8jzL3aZ"
      }
    },
    {
      "cell_type": "markdown",
      "source": [
        "**INVERSE**"
      ],
      "metadata": {
        "id": "o5Lu9aB9L3eo"
      }
    },
    {
      "cell_type": "code",
      "source": [
        "print(\"before inverse\")\n",
        "print(a)\n",
        "print(\"after inverse\")\n",
        "result2=np.linalg.inv(a)\n",
        "print(result2)"
      ],
      "metadata": {
        "colab": {
          "base_uri": "https://localhost:8080/"
        },
        "id": "JRyj8xwHL6ox",
        "outputId": "5da70c12-285f-4dab-a20c-ef1140031703"
      },
      "execution_count": 41,
      "outputs": [
        {
          "output_type": "stream",
          "name": "stdout",
          "text": [
            "before inverse\n",
            "[[16 11 12 16]\n",
            " [12 12  9  9]\n",
            " [ 9  7 14 11]\n",
            " [14  9  9 15]]\n",
            "after inverse\n",
            "[[ 1.55921053 -0.30921053 -0.35526316 -1.21710526]\n",
            " [-1.02631579  0.35964912  0.15789474  0.76315789]\n",
            " [ 0.32236842 -0.07236842  0.06578947 -0.34868421]\n",
            " [-1.03289474  0.11622807  0.19736842  0.95394737]]\n"
          ]
        }
      ]
    },
    {
      "cell_type": "markdown",
      "source": [
        "**Matrix Power**"
      ],
      "metadata": {
        "id": "S7pFZmNNMMGR"
      }
    },
    {
      "cell_type": "markdown",
      "source": [
        "np.linalg.matrix_power() function. This function computes the power of a given square matrix, either a positive, zero, or negative integer power."
      ],
      "metadata": {
        "id": "VtyRHK5JM9vm"
      }
    },
    {
      "cell_type": "code",
      "source": [
        "a=np.random.randint(1,17,[4,4])\n",
        "a_2=np.linalg.matrix_power(a,2)\n",
        "a_6=np.linalg.matrix_power(a,6)\n",
        "print('matrix to power 2\\n',a_2)\n",
        "print(  )\n",
        "print('matrix to power 6\\n',a_6)"
      ],
      "metadata": {
        "colab": {
          "base_uri": "https://localhost:8080/"
        },
        "id": "ycXwTATbNCb-",
        "outputId": "97eea69b-3901-4dd1-8896-34711c84f613"
      },
      "execution_count": 51,
      "outputs": [
        {
          "output_type": "stream",
          "name": "stdout",
          "text": [
            "matrix to power 2\n",
            " [[221 444 350 405]\n",
            " [199 427 305 375]\n",
            " [139 343 298 296]\n",
            " [224 518 369 515]]\n",
            "\n",
            "matrix to power 6\n",
            " [[376132060 840822337 633831700 774292775]\n",
            " [346827987 775267118 584373025 713949560]\n",
            " [282118182 630721424 475499901 580759183]\n",
            " [434900847 972170044 732665482 895404447]]\n"
          ]
        }
      ]
    },
    {
      "cell_type": "code",
      "source": [
        "a_inv_1=np.linalg.matrix_power(a,1)\n",
        "print(a_inv_1)"
      ],
      "metadata": {
        "colab": {
          "base_uri": "https://localhost:8080/"
        },
        "id": "E7rfqbHJN61S",
        "outputId": "32abb8e1-e540-4ab0-ea3b-39a8e98fcef1"
      },
      "execution_count": 49,
      "outputs": [
        {
          "output_type": "stream",
          "name": "stdout",
          "text": [
            "[[15 12  9 14]\n",
            " [ 8  7  3 11]\n",
            " [ 3 10 14 16]\n",
            " [ 5  3 12 10]]\n"
          ]
        }
      ]
    },
    {
      "cell_type": "markdown",
      "source": [
        "Eigenvalues and **Eigenvectors**"
      ],
      "metadata": {
        "id": "3klcdoXIOKRr"
      }
    },
    {
      "cell_type": "markdown",
      "source": [
        "In NumPy, you can compute the eigenvalues and eigenvectors of a square matrix using the np.linalg.eig() function."
      ],
      "metadata": {
        "id": "CMdFzufROw7S"
      }
    },
    {
      "cell_type": "code",
      "source": [
        "a = np.arange(4).reshape(2,2)\n",
        "print(a)"
      ],
      "metadata": {
        "colab": {
          "base_uri": "https://localhost:8080/"
        },
        "id": "orMkZZmMO2u3",
        "outputId": "ac5d5dcb-0853-4109-d47c-53e59be74a77"
      },
      "execution_count": 56,
      "outputs": [
        {
          "output_type": "stream",
          "name": "stdout",
          "text": [
            "[[0 1]\n",
            " [2 3]]\n"
          ]
        }
      ]
    },
    {
      "cell_type": "code",
      "source": [
        "eig_val, eig_vec = np.linalg.eig(a)\n",
        "print('Eigenvalues are:\\n', eig_val)\n",
        "print('Eigenvectors are:\\n', eig_vec)"
      ],
      "metadata": {
        "colab": {
          "base_uri": "https://localhost:8080/"
        },
        "id": "twOLGI4MQpN_",
        "outputId": "15a798dd-9a3a-481d-f61a-c124f8773058"
      },
      "execution_count": 62,
      "outputs": [
        {
          "output_type": "stream",
          "name": "stdout",
          "text": [
            "Eigenvalues are:\n",
            " [-0.56155281  3.56155281]\n",
            "Eigenvectors are:\n",
            " [[-0.87192821 -0.27032301]\n",
            " [ 0.48963374 -0.96276969]]\n"
          ]
        }
      ]
    },
    {
      "cell_type": "markdown",
      "source": [
        "Eigen values can be known by using np.linalg.eigvals()\n"
      ],
      "metadata": {
        "id": "ODFxBnrIQ0Ln"
      }
    },
    {
      "cell_type": "code",
      "source": [
        "a=np.arange(16).reshape(4,4)\n",
        "print(a)\n",
        "eig_val=np.linalg.eigvals(a)\n",
        "print(\"eigen values\\n\")\n",
        "print(eig_val)\n",
        "\n"
      ],
      "metadata": {
        "colab": {
          "base_uri": "https://localhost:8080/"
        },
        "id": "Zj_kkvg4RU85",
        "outputId": "95519c16-243e-4122-f9dc-5fc52fdf25a8"
      },
      "execution_count": 74,
      "outputs": [
        {
          "output_type": "stream",
          "name": "stdout",
          "text": [
            "[[ 0  1  2  3]\n",
            " [ 4  5  6  7]\n",
            " [ 8  9 10 11]\n",
            " [12 13 14 15]]\n",
            "eigen values\n",
            "\n",
            "[ 3.24642492e+01 -2.46424920e+00  1.64176007e-15 -1.10576860e-16]\n"
          ]
        }
      ]
    },
    {
      "cell_type": "markdown",
      "source": [
        "**Traces of a Matrix**"
      ],
      "metadata": {
        "id": "lQArPorfSzYJ"
      }
    },
    {
      "cell_type": "markdown",
      "source": [
        "Trace is the sum of all elements present in diagonal"
      ],
      "metadata": {
        "id": "GXT6AmkZS7Oe"
      }
    },
    {
      "cell_type": "code",
      "source": [
        "a = np.eye(3)\n",
        "print(a)\n",
        "b=np.trace(a)\n",
        "print(\"trace of matrix\\n\",b)"
      ],
      "metadata": {
        "colab": {
          "base_uri": "https://localhost:8080/"
        },
        "id": "breknVJKTGR3",
        "outputId": "4642db7f-04fd-4667-fc36-46c1f9b90806"
      },
      "execution_count": 76,
      "outputs": [
        {
          "output_type": "stream",
          "name": "stdout",
          "text": [
            "[[1. 0. 0.]\n",
            " [0. 1. 0.]\n",
            " [0. 0. 1.]]\n",
            "trace of matrix\n",
            " 3.0\n"
          ]
        }
      ]
    },
    {
      "cell_type": "markdown",
      "source": [
        "**Matrix Norm**"
      ],
      "metadata": {
        "id": "_M4EffrrTW5t"
      }
    },
    {
      "cell_type": "markdown",
      "source": [
        "**computing different norms using the np.linalg.norm() function.**"
      ],
      "metadata": {
        "id": "d0otHz2GTlKu"
      }
    },
    {
      "cell_type": "code",
      "source": [
        "a=np.arange(16).reshape(4,4)\n",
        "b=np.linalg.norm(a)\n",
        "print(\"NORM OF MATRIX\")\n",
        "print(b)"
      ],
      "metadata": {
        "colab": {
          "base_uri": "https://localhost:8080/"
        },
        "id": "mC-vDnYAUKNT",
        "outputId": "770cb179-feb3-4b28-b9d7-109efa32ad15"
      },
      "execution_count": 78,
      "outputs": [
        {
          "output_type": "stream",
          "name": "stdout",
          "text": [
            "NORM OF MATRIX\n",
            "35.21363372331802\n"
          ]
        }
      ]
    },
    {
      "cell_type": "markdown",
      "source": [
        "**System of Equations**"
      ],
      "metadata": {
        "id": "JejeahohUxdt"
      }
    },
    {
      "cell_type": "markdown",
      "source": [
        "np.linalg.solve is a function in NumPy used to solve a system of linear equations."
      ],
      "metadata": {
        "id": "Yz5_vAfmVDC3"
      }
    },
    {
      "cell_type": "code",
      "source": [
        "\n",
        "\n",
        "\n",
        "\n",
        "\n",
        "\n",
        "# Define a new coefficient matrix with adjusted values\n",
        "a = np.array([[1, 2, 3],\n",
        "              [4, 5, 6],\n",
        "              [7, 8, 10]])  # Adjusted the last element from 9 to 10\n",
        "\n",
        "# Dependent variable vector\n",
        "b = np.array([1, 2, 3])\n",
        "\n",
        "# Solve the system\n",
        "result = np.linalg.solve(a, b)\n",
        "\n",
        "print(\"Coefficient Matrix (a):\")\n",
        "print(a)\n",
        "\n",
        "print(\"\\nDependent Variable vector (b):\")\n",
        "print(b)\n",
        "\n",
        "print(\"\\nSolution:\")\n",
        "print(result)\n"
      ],
      "metadata": {
        "colab": {
          "base_uri": "https://localhost:8080/"
        },
        "id": "k_ifeCp1VXjo",
        "outputId": "4ceb3ddd-6e6e-46cf-d8c2-fb5447142cba"
      },
      "execution_count": 88,
      "outputs": [
        {
          "output_type": "stream",
          "name": "stdout",
          "text": [
            "Coefficient Matrix (a):\n",
            "[[ 1  2  3]\n",
            " [ 4  5  6]\n",
            " [ 7  8 10]]\n",
            "\n",
            "Dependent Variable vector (b):\n",
            "[1 2 3]\n",
            "\n",
            "Solution:\n",
            "[-0.33333333  0.66666667 -0.        ]\n"
          ]
        }
      ]
    },
    {
      "cell_type": "markdown",
      "source": [
        "checking for correctness\n"
      ],
      "metadata": {
        "id": "pL9HF2zJXytq"
      }
    },
    {
      "cell_type": "code",
      "source": [
        "z=a.dot(result)\n",
        "print(z)"
      ],
      "metadata": {
        "colab": {
          "base_uri": "https://localhost:8080/"
        },
        "id": "61zciBWaX1aj",
        "outputId": "5ad4eb51-3ebb-4653-cc61-090c019b55a6"
      },
      "execution_count": 92,
      "outputs": [
        {
          "output_type": "stream",
          "name": "stdout",
          "text": [
            "[1. 2. 3.]\n"
          ]
        }
      ]
    }
  ]
}