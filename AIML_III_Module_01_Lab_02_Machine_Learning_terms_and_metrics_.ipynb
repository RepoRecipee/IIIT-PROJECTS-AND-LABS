{
  "nbformat": 4,
  "nbformat_minor": 0,
  "metadata": {
    "colab": {
      "provenance": [],
      "authorship_tag": "ABX9TyM4s/stOL2iXGIxDEMYj7UR",
      "include_colab_link": true
    },
    "kernelspec": {
      "name": "python3",
      "display_name": "Python 3"
    },
    "language_info": {
      "name": "python"
    }
  },
  "cells": [
    {
      "cell_type": "markdown",
      "metadata": {
        "id": "view-in-github",
        "colab_type": "text"
      },
      "source": [
        "<a href=\"https://colab.research.google.com/github/RepoRecipee/IIIT-PROJECTS-AND-LABS/blob/main/AIML_III_Module_01_Lab_02_Machine_Learning_terms_and_metrics_.ipynb\" target=\"_parent\"><img src=\"https://colab.research.google.com/assets/colab-badge.svg\" alt=\"Open In Colab\"/></a>"
      ]
    },
    {
      "cell_type": "markdown",
      "source": [
        "# Machine Learning terms and metrics"
      ],
      "metadata": {
        "id": "bsKd4MonYLZs"
      }
    },
    {
      "cell_type": "markdown",
      "source": [
        "In this lab, we will show a part of the ML pipeline by using the California Housing dataset. There are 20640 samples, each with 8 attributes like income of the block, age of the houses per district etc. The task is to predict the cost of the houses per district. We will use the scikit-learn library to load the data and perform some basic data preprocessing and model training. We will also show how to evaluate the model using some common metrics, split the data into training and testing sets, and use cross-validation to get a better estimate of the model's performance.\n",
        "\n",
        "\n"
      ],
      "metadata": {
        "id": "GIy89eInYSUT"
      }
    },
    {
      "cell_type": "code",
      "source": [
        "import numpy as np\n",
        "from sklearn import datasets\n",
        "import matplotlib.pyplot as plt\n",
        "\n",
        "rng = np.random.default_rng(seed=42)"
      ],
      "metadata": {
        "id": "5TXsAY5fYgjw"
      },
      "execution_count": 42,
      "outputs": []
    },
    {
      "cell_type": "code",
      "source": [
        "dataset = datasets.fetch_california_housing()\n",
        "# Dataset description\n",
        "print(dataset.DESCR)"
      ],
      "metadata": {
        "colab": {
          "base_uri": "https://localhost:8080/"
        },
        "id": "Ime79puTY4v-",
        "outputId": "eea76f78-01f7-4024-cf0b-8abe3474ab2c"
      },
      "execution_count": 43,
      "outputs": [
        {
          "output_type": "stream",
          "name": "stdout",
          "text": [
            ".. _california_housing_dataset:\n",
            "\n",
            "California Housing dataset\n",
            "--------------------------\n",
            "\n",
            "**Data Set Characteristics:**\n",
            "\n",
            "    :Number of Instances: 20640\n",
            "\n",
            "    :Number of Attributes: 8 numeric, predictive attributes and the target\n",
            "\n",
            "    :Attribute Information:\n",
            "        - MedInc        median income in block group\n",
            "        - HouseAge      median house age in block group\n",
            "        - AveRooms      average number of rooms per household\n",
            "        - AveBedrms     average number of bedrooms per household\n",
            "        - Population    block group population\n",
            "        - AveOccup      average number of household members\n",
            "        - Latitude      block group latitude\n",
            "        - Longitude     block group longitude\n",
            "\n",
            "    :Missing Attribute Values: None\n",
            "\n",
            "This dataset was obtained from the StatLib repository.\n",
            "https://www.dcc.fc.up.pt/~ltorgo/Regression/cal_housing.html\n",
            "\n",
            "The target variable is the median house value for California districts,\n",
            "expressed in hundreds of thousands of dollars ($100,000).\n",
            "\n",
            "This dataset was derived from the 1990 U.S. census, using one row per census\n",
            "block group. A block group is the smallest geographical unit for which the U.S.\n",
            "Census Bureau publishes sample data (a block group typically has a population\n",
            "of 600 to 3,000 people).\n",
            "\n",
            "A household is a group of people residing within a home. Since the average\n",
            "number of rooms and bedrooms in this dataset are provided per household, these\n",
            "columns may take surprisingly large values for block groups with few households\n",
            "and many empty houses, such as vacation resorts.\n",
            "\n",
            "It can be downloaded/loaded using the\n",
            ":func:`sklearn.datasets.fetch_california_housing` function.\n",
            "\n",
            ".. topic:: References\n",
            "\n",
            "    - Pace, R. Kelley and Ronald Barry, Sparse Spatial Autoregressions,\n",
            "      Statistics and Probability Letters, 33 (1997) 291-297\n",
            "\n"
          ]
        }
      ]
    },
    {
      "cell_type": "markdown",
      "source": [
        "Given below are the list of target values. These correspond to the house value derived considering all the 8 input features and are continuous values. We should use regression models to predict these values but we will start with a simple classification model for the sake of simplicity. We need to just round off the values to the nearest integer and use a classification model to predict the house value.\n",
        "\n"
      ],
      "metadata": {
        "id": "4-hDiiYYZIkt"
      }
    },
    {
      "cell_type": "code",
      "source": [
        "print(\"Orignal target values:\", dataset.target)\n",
        "\n",
        "dataset.target = dataset.target.astype(int)\n",
        "\n",
        "print(\"Target values after conversion:\", dataset.target)\n",
        "print(\"Input variables shape:\", dataset.data.shape)\n",
        "print(\"Output variables shape:\", dataset.target.shape)"
      ],
      "metadata": {
        "colab": {
          "base_uri": "https://localhost:8080/"
        },
        "id": "_p265BXSZJcV",
        "outputId": "0f2503b2-20ca-4e9f-9bb5-cabbb5c895c3"
      },
      "execution_count": 44,
      "outputs": [
        {
          "output_type": "stream",
          "name": "stdout",
          "text": [
            "Orignal target values: [4.526 3.585 3.521 ... 0.923 0.847 0.894]\n",
            "Target values after conversion: [4 3 3 ... 0 0 0]\n",
            "Input variables shape: (20640, 8)\n",
            "Output variables shape: (20640,)\n"
          ]
        }
      ]
    },
    {
      "cell_type": "markdown",
      "source": [
        "The simplest model to use for classification is the K-Nearest Neighbors model. We will use this model to predict the house value with a K value of 1. We will also use the accuracy metric to evaluate the model."
      ],
      "metadata": {
        "id": "mmShNDPNZbps"
      }
    },
    {
      "cell_type": "code",
      "source": [
        "def NN1(traindata, trainlabel, query):\n",
        "    \"\"\"\n",
        "    This function takes in the training data, training labels and a query point\n",
        "    and returns the predicted label for the query point using the nearest neighbour algorithm\n",
        "\n",
        "    traindata: numpy array of shape (n,d) where n is the number of samples and d is the number of features\n",
        "    trainlabel: numpy array of shape (n,) where n is the number of samples\n",
        "    query: numpy array of shape (d,) where d is the number of features\n",
        "\n",
        "    returns: the predicted label for the query point which is the label of the training data which is closest to the query point\n",
        "    \"\"\"\n",
        "    diff = (\n",
        "        traindata - query\n",
        "    )  # find the difference between features. Numpy automatically takes care of the size here\n",
        "    sq = diff * diff  # square the differences\n",
        "    dist = sq.sum(1)  # add up the squares\n",
        "    label = trainlabel[np.argmin(dist)]\n",
        "    return label\n",
        "\n",
        "\n",
        "def NN(traindata, trainlabel, testdata):\n",
        "    \"\"\"\n",
        "    This function takes in the training data, training labels and test data\n",
        "    and returns the predicted labels for the test data using the nearest neighbour algorithm\n",
        "\n",
        "    traindata: numpy array of shape (n,d) where n is the number of samples and d is the number of features\n",
        "    trainlabel: numpy array of shape (n,) where n is the number of samples\n",
        "    testdata: numpy array of shape (m,d) where m is the number of test samples and d is the number of features\n",
        "\n",
        "    returns: the predicted labels for the test data which is the label of the training data which is closest to each test point\n",
        "    \"\"\"\n",
        "    predlabel = np.array([NN1(traindata, trainlabel, i) for i in testdata])\n",
        "    return predlabel"
      ],
      "metadata": {
        "id": "yQG4TfdmZhCp"
      },
      "execution_count": 45,
      "outputs": []
    },
    {
      "cell_type": "markdown",
      "source": [
        "We will also define a 'random classifier', which randomly allots labels to each sample\n",
        "\n",
        "\n"
      ],
      "metadata": {
        "id": "y88ZAwE1Zn_Y"
      }
    },
    {
      "cell_type": "code",
      "source": [
        "def RandomClassifier(traindata, trainlabel, testdata):\n",
        "    \"\"\"\n",
        "    This function takes in the training data, training labels and test data\n",
        "    and returns the predicted labels for the test data using the random classifier algorithm\n",
        "\n",
        "    In reality, we don't need these arguments but we are passing them to keep the function signature consistent with other classifiers\n",
        "\n",
        "    traindata: numpy array of shape (n,d) where n is the number of samples and d is the number of features\n",
        "    trainlabel: numpy array of shape (n,) where n is the number of samples\n",
        "    testdata: numpy array of shape (m,d) where m is the number of test samples and d is the number of features\n",
        "\n",
        "    returns: the predicted labels for the test data which is a random label from the training data\n",
        "    \"\"\"\n",
        "\n",
        "    classes = np.unique(trainlabel)\n",
        "    rints = rng.integers(low=0, high=len(classes), size=len(testdata))\n",
        "    predlabel = classes[rints]\n",
        "    return predlabel\n",
        ""
      ],
      "metadata": {
        "id": "Rf8UoE8KZpLY"
      },
      "execution_count": 46,
      "outputs": []
    },
    {
      "cell_type": "markdown",
      "source": [
        "We need a metric to evaluate the performance of the model. Let us define a metric 'Accuracy' to see how good our learning algorithm is. Accuracy is the ratio of the number of correctly classified samples to the total number of samples. The higher the accuracy, the better the algorithm. We will use the accuracy metric to evaluate and compate the performance of the K-Nearest Neighbors model and the random classifier."
      ],
      "metadata": {
        "id": "Y_kP_tgFZ0yY"
      }
    },
    {
      "cell_type": "code",
      "source": [
        "def Accuracy(gtlabel, predlabel):\n",
        "    \"\"\"\n",
        "    This function takes in the ground-truth labels and predicted labels\n",
        "    and returns the accuracy of the classifier\n",
        "\n",
        "    gtlabel: numpy array of shape (n,) where n is the number of samples\n",
        "    predlabel: numpy array of shape (n,) where n is the number of samples\n",
        "\n",
        "    returns: the accuracy of the classifier which is the number of correct predictions divided by the total number of predictions\n",
        "    \"\"\"\n",
        "    assert len(gtlabel) == len(\n",
        "        predlabel\n",
        "    ), \"Length of the ground-truth labels and predicted labels should be the same\"\n",
        "    correct = (\n",
        "        gtlabel == predlabel\n",
        "    ).sum()  # count the number of times the groundtruth label is equal to the predicted label.\n",
        "    return correct / len(gtlabel)"
      ],
      "metadata": {
        "id": "mhWGxM8yZ1mV"
      },
      "execution_count": 47,
      "outputs": []
    },
    {
      "cell_type": "markdown",
      "source": [
        "Let us make a function to split the dataset with the desired probability. We will use this function to split the dataset into training and testing sets. We will use the training set to train the model and the testing set to evaluate the model.\n",
        "\n"
      ],
      "metadata": {
        "id": "UOLBYF1caqyp"
      }
    },
    {
      "cell_type": "code",
      "source": [
        "def split(data, label, percent):\n",
        "    # generate a random number for each sample\n",
        "    rnd = rng.random(len(label))\n",
        "    split1 = rnd < percent\n",
        "    split2 = rnd >= percent\n",
        "\n",
        "    split1data = data[split1, :]\n",
        "    split1label = label[split1]\n",
        "    split2data = data[split2, :]\n",
        "    split2label = label[split2]\n",
        "    return split1data, split1label, split2data, split2label"
      ],
      "metadata": {
        "id": "EyQ03N4jauEU"
      },
      "execution_count": 48,
      "outputs": []
    },
    {
      "cell_type": "markdown",
      "source": [
        "We will reserve 20% of our dataset as the test set. We will not change this portion throughout our experiments"
      ],
      "metadata": {
        "id": "ra65znmjaz62"
      }
    },
    {
      "cell_type": "code",
      "source": [
        "testdata, testlabel, alltraindata, alltrainlabel = split(\n",
        "    dataset.data, dataset.target, 20 / 100\n",
        ")\n",
        "print(\"Number of test samples:\", len(testlabel))\n",
        "print(\"Number of train samples:\", len(alltrainlabel))\n",
        "print(\"Percent of test data:\", len(testlabel) * 100 / len(dataset.target), \"%\")"
      ],
      "metadata": {
        "colab": {
          "base_uri": "https://localhost:8080/"
        },
        "id": "tX3Tqmrua4NP",
        "outputId": "cef53009-7855-41df-eb8c-fca36a8ea266"
      },
      "execution_count": 49,
      "outputs": [
        {
          "output_type": "stream",
          "name": "stdout",
          "text": [
            "Number of test samples: 4144\n",
            "Number of train samples: 16496\n",
            "Percent of test data: 20.07751937984496 %\n"
          ]
        }
      ]
    },
    {
      "cell_type": "markdown",
      "source": [
        "# Experiments with splits"
      ],
      "metadata": {
        "id": "rzs0k1vwbCAq"
      }
    },
    {
      "cell_type": "markdown",
      "source": [
        "Let us reserve some of our train data as a validation set"
      ],
      "metadata": {
        "id": "HDJA8qQZbGNq"
      }
    },
    {
      "cell_type": "code",
      "source": [
        "traindata, trainlabel, valdata, vallabel = split(\n",
        "    alltraindata, alltrainlabel, 75 / 100)"
      ],
      "metadata": {
        "id": "GijctvudbPw4"
      },
      "execution_count": 50,
      "outputs": []
    },
    {
      "cell_type": "markdown",
      "source": [
        "Now let us now the Accuracy of the dataset"
      ],
      "metadata": {
        "id": "3NJ3wrcQbVTK"
      }
    },
    {
      "cell_type": "code",
      "source": [
        "import numpy as np\n",
        "from sklearn.metrics import accuracy_score\n",
        "\n",
        "# Sample Nearest Neighbor implementation\n",
        "def NN(train_data, train_labels, test_data):\n",
        "    predictions = []\n",
        "    for test_point in test_data:\n",
        "        # Compute distances from the test point to all training points\n",
        "        distances = np.linalg.norm(train_data - test_point, axis=1)\n",
        "        # Find the index of the nearest training point\n",
        "        nearest_index = np.argmin(distances)\n",
        "        # Predict the label of the nearest training point\n",
        "        predictions.append(train_labels[nearest_index])\n",
        "    return np.array(predictions)\n",
        "\n",
        "# Sample Random Classifier implementation\n",
        "def RandomClassifier(train_data, train_labels, test_data):\n",
        "    unique_labels = np.unique(train_labels)\n",
        "    predictions = np.random.choice(unique_labels, size=len(test_data))\n",
        "    return predictions\n",
        "\n",
        "# Accuracy function\n",
        "def Accuracy(true_labels, predicted_labels):\n",
        "    return accuracy_score(true_labels, predicted_labels)\n",
        "\n",
        "# Example dataset\n",
        "traindata = np.array([[1, 2], [2, 3], [3, 4], [4, 5]])\n",
        "trainlabel = np.array([0, 1, 0, 1])\n",
        "\n",
        "# Nearest Neighbor Classifier\n",
        "trainpred = NN(traindata, trainlabel, traindata)\n",
        "trainAccuracy = Accuracy(trainlabel, trainpred)\n",
        "print(\"Training accuracy using nearest neighbour algorithm:\", trainAccuracy * 100, \"%\")\n",
        "\n",
        "# Random Classifier\n",
        "trainpred = RandomClassifier(traindata, trainlabel, traindata)\n",
        "trainAccuracy = Accuracy(trainlabel, trainpred)\n",
        "print(\"Training accuracy using random classifier:\", trainAccuracy * 100, \"%\")\n"
      ],
      "metadata": {
        "colab": {
          "base_uri": "https://localhost:8080/"
        },
        "id": "tpKX63Dtba6F",
        "outputId": "2b7fe5d6-987e-45ba-ce5e-a9165d2483df"
      },
      "execution_count": 51,
      "outputs": [
        {
          "output_type": "stream",
          "name": "stdout",
          "text": [
            "Training accuracy using nearest neighbour algorithm: 100.0 %\n",
            "Training accuracy using random classifier: 25.0 %\n"
          ]
        }
      ]
    },
    {
      "cell_type": "markdown",
      "source": [
        "Validation accuracy of nearest neighbour is considerably less than its train accuracy while the validation accuracy of random classifier is the same. However, the validation accuracy of nearest neighbour is twice that of the random classifier. Now let us try another random split and check the validation accuracy. We will see that the validation accuracy changes with the split. This is because the validation set is small and the accuracy is highly dependent on the samples in the validation set. We can get a better estimate of the accuracy by using cross-validation."
      ],
      "metadata": {
        "id": "6vLT-VCQdX3e"
      }
    },
    {
      "cell_type": "code",
      "source": [
        "traindata, trainlabel, valdata, vallabel = split(\n",
        "    alltraindata, alltrainlabel, 75 / 100)\n",
        "valpred = NN(traindata, trainlabel, valdata)\n",
        "valAccuracy = Accuracy(vallabel, valpred)\n",
        "print(\"Validation accuracy using nearest neighbour algorithm:\", valAccuracy*100, \"%\")"
      ],
      "metadata": {
        "colab": {
          "base_uri": "https://localhost:8080/"
        },
        "id": "xZ7TXp_bddu9",
        "outputId": "4733d6d6-aa71-47c4-a8a4-f3c2e23583fd"
      },
      "execution_count": 52,
      "outputs": [
        {
          "output_type": "stream",
          "name": "stdout",
          "text": [
            "Validation accuracy using nearest neighbour algorithm: 35.099177552007745 %\n"
          ]
        }
      ]
    },
    {
      "cell_type": "code",
      "source": [
        "import numpy as np\n",
        "from sklearn.metrics import accuracy_score\n",
        "from sklearn.model_selection import train_test_split\n",
        "\n",
        "# Sample Nearest Neighbor implementation\n",
        "def NN(train_data, train_labels, test_data):\n",
        "    predictions = []\n",
        "    for test_point in test_data:\n",
        "        # Compute distances from the test point to all training points\n",
        "        distances = np.linalg.norm(train_data - test_point, axis=1)\n",
        "        # Find the index of the nearest training point\n",
        "        nearest_index = np.argmin(distances)\n",
        "        # Predict the label of the nearest training point\n",
        "        predictions.append(train_labels[nearest_index])\n",
        "    return np.array(predictions)\n",
        "\n",
        "# Sample Random Classifier implementation\n",
        "def RandomClassifier(train_data, train_labels, test_data):\n",
        "    unique_labels = np.unique(train_labels)\n",
        "    predictions = np.random.choice(unique_labels, size=len(test_data))\n",
        "    return predictions\n",
        "\n",
        "# Accuracy function\n",
        "def Accuracy(true_labels, predicted_labels):\n",
        "    return accuracy_score(true_labels, predicted_labels)\n",
        "\n",
        "data = np.array([[1, 2], [2, 3], [3, 4], [4, 5], [5, 6], [6, 7], [7, 8], [8, 9]])\n",
        "labels = np.array([0, 1, 0, 1, 0, 1, 0, 1])\n",
        "\n",
        "# Number of repetitions\n",
        "num_repetitions = 10\n",
        "\n",
        "# Run multiple iterations and collect accuracies\n",
        "nn_train_accuracies = []\n",
        "nn_val_accuracies = []\n",
        "random_train_accuracies = []\n",
        "random_val_accuracies = []\n",
        "\n",
        "for _ in range(num_repetitions):\n",
        "    # Split the data into training and validation sets\n",
        "    traindata, valdata, trainlabel, vallabel = train_test_split(data, labels, test_size=0.5, random_state=None)\n",
        "\n",
        "    # Nearest Neighbor Classifier - Training\n",
        "    trainpred = NN(traindata, trainlabel, traindata)\n",
        "    trainAccuracy = Accuracy(trainlabel, trainpred)\n",
        "    nn_train_accuracies.append(trainAccuracy * 100)\n",
        "\n",
        "    # Nearest Neighbor Classifier - Validation\n",
        "    valpred = NN(traindata, trainlabel, valdata)\n",
        "    valAccuracy = Accuracy(vallabel, valpred)\n",
        "    nn_val_accuracies.append(valAccuracy * 100)\n",
        "\n",
        "    # Random Classifier - Training\n",
        "    trainpred = RandomClassifier(traindata, trainlabel, traindata)\n",
        "    trainAccuracy = Accuracy(trainlabel, trainpred)\n",
        "    random_train_accuracies.append(trainAccuracy * 100)\n",
        "\n",
        "    # Random Classifier - Validation\n",
        "    valpred = RandomClassifier(traindata, trainlabel, valdata)\n",
        "    valAccuracy = Accuracy(vallabel, valpred)\n",
        "    random_val_accuracies.append(valAccuracy * 100)\n",
        "\n",
        "# Print the results\n",
        "print(\"Nearest Neighbor Classifier - Training Accuracies:\", nn_train_accuracies)\n",
        "print(\"Nearest Neighbor Classifier - Validation Accuracies:\", nn_val_accuracies)\n",
        "print(\"Random Classifier - Training Accuracies:\", random_train_accuracies)\n",
        "print(\"Random Classifier - Validation Accuracies:\", random_val_accuracies)\n",
        "\n",
        "print(\"\\nAverage Training Accuracy using Nearest Neighbor:\", np.mean(nn_train_accuracies), \"%\")\n",
        "print(\"Average Validation Accuracy using Nearest Neighbor:\", np.mean(nn_val_accuracies), \"%\")\n",
        "\n",
        "print(\"\\nAverage Training Accuracy using Random Classifier:\", np.mean(random_train_accuracies), \"%\")\n",
        "print(\"Average Validation Accuracy using Random Classifier:\", np.mean(random_val_accuracies), \"%\")\n"
      ],
      "metadata": {
        "colab": {
          "base_uri": "https://localhost:8080/"
        },
        "id": "3hbxbyP4el4T",
        "outputId": "75e89f6e-db39-450b-e4fb-0b379f4e4716"
      },
      "execution_count": 53,
      "outputs": [
        {
          "output_type": "stream",
          "name": "stdout",
          "text": [
            "Nearest Neighbor Classifier - Training Accuracies: [100.0, 100.0, 100.0, 100.0, 100.0, 100.0, 100.0, 100.0, 100.0, 100.0]\n",
            "Nearest Neighbor Classifier - Validation Accuracies: [0.0, 25.0, 25.0, 25.0, 0.0, 0.0, 25.0, 0.0, 25.0, 0.0]\n",
            "Random Classifier - Training Accuracies: [25.0, 0.0, 100.0, 25.0, 75.0, 100.0, 25.0, 25.0, 75.0, 50.0]\n",
            "Random Classifier - Validation Accuracies: [75.0, 25.0, 0.0, 25.0, 50.0, 100.0, 50.0, 25.0, 25.0, 50.0]\n",
            "\n",
            "Average Training Accuracy using Nearest Neighbor: 100.0 %\n",
            "Average Validation Accuracy using Nearest Neighbor: 12.5 %\n",
            "\n",
            "Average Training Accuracy using Random Classifier: 50.0 %\n",
            "Average Validation Accuracy using Random Classifier: 42.5 %\n"
          ]
        }
      ]
    },
    {
      "cell_type": "markdown",
      "source": [
        "\n",
        "# ASSIGNMENT"
      ],
      "metadata": {
        "id": "xLvD1JjifOFa"
      }
    },
    {
      "cell_type": "markdown",
      "source": [
        "1.How is the accuracy of the validation set affected if we increase the percentage of validation set? What happens when we reduce it?"
      ],
      "metadata": {
        "id": "eCSAFWjnfYgC"
      }
    },
    {
      "cell_type": "code",
      "source": [
        "\n",
        "\n",
        "#results for plotting\n",
        "nn_val_accuracies = []\n",
        "random_val_accuracies = []\n",
        "validation_sizes = np.arange(0.1, 0.6, 0.1)\n",
        "\n",
        "for test_size in validation_sizes:\n",
        "    nn_accuracies = []\n",
        "    random_accuracies = []\n",
        "\n",
        "    for _ in range(num_repetitions):\n",
        "        # Split the data into training and validation sets\n",
        "        traindata, valdata, trainlabel, vallabel = train_test_split(data, labels, test_size=test_size, random_state=None)\n",
        "\n",
        "        # Nearest Neighbor Classifier - Validation\n",
        "        valpred = NN(traindata, trainlabel, valdata)\n",
        "        valAccuracy = Accuracy(vallabel, valpred)\n",
        "        nn_accuracies.append(valAccuracy * 100)\n",
        "\n",
        "        # Random Classifier - Validation\n",
        "        valpred = RandomClassifier(traindata, trainlabel, valdata)\n",
        "        valAccuracy = Accuracy(vallabel, valpred)\n",
        "        random_accuracies.append(valAccuracy * 100)\n",
        "\n",
        "    nn_val_accuracies.append(np.mean(nn_accuracies))\n",
        "    random_val_accuracies.append(np.mean(random_accuracies))"
      ],
      "metadata": {
        "id": "FmUqVpc8feyA"
      },
      "execution_count": 54,
      "outputs": []
    },
    {
      "cell_type": "markdown",
      "source": [
        "PLOTTING THE RESULTS"
      ],
      "metadata": {
        "id": "lZaD8NTPgpWX"
      }
    },
    {
      "cell_type": "code",
      "source": [
        "# Plotting the results\n",
        "plt.figure(figsize=(10, 6))\n",
        "plt.plot(validation_sizes * 100, nn_val_accuracies, label='Nearest Neighbor', marker='o')\n",
        "plt.plot(validation_sizes * 100, random_val_accuracies, label='Random Classifier', marker='x')\n",
        "plt.xlabel('Validation Set Size (%)')\n",
        "plt.ylabel('Average Validation Accuracy (%)')\n",
        "plt.title('Effect of Validation Set Size on Accuracy')\n",
        "plt.legend()\n",
        "plt.grid(True)\n",
        "plt.show()"
      ],
      "metadata": {
        "colab": {
          "base_uri": "https://localhost:8080/",
          "height": 564
        },
        "id": "vzghgYv-grSn",
        "outputId": "ea3dae13-580a-4436-f688-49613c18fb18"
      },
      "execution_count": 55,
      "outputs": [
        {
          "output_type": "display_data",
          "data": {
            "text/plain": [
              "<Figure size 1000x600 with 1 Axes>"
            ],
            "image/png": "[encoded data removed]"
          },
          "metadata": {}
        }
      ]
    },
    {
      "cell_type": "markdown",
      "source": [
        "2.How does the size of the train and validation set affect how well we can predict the accuracy on the test set using the validation set?"
      ],
      "metadata": {
        "id": "5umaiwMyg0Q2"
      }
    },
    {
      "cell_type": "code",
      "source": [
        "train_sizes = [0.5, 0.7, 0.9]  # Varying training set sizes\n",
        "validation_sizes = [0.1, 0.2, 0.3]  # Varying validation set sizes\n",
        "\n",
        "# Store results\n",
        "results = []\n",
        "\n",
        "for train_size in train_sizes:\n",
        "    for val_size in validation_sizes:\n",
        "        traindata_split, valdata, trainlabel_split, vallabel = train_test_split(traindata, trainlabel, test_size=val_size, random_state=42)\n",
        "        traindata_split, _, trainlabel_split, _ = train_test_split(traindata_split, trainlabel_split, train_size=train_size, random_state=42)\n",
        "\n",
        "        # Sample Nearest Neighbor implementation\n",
        "def NN(train_data, train_labels, test_data):\n",
        "    predictions = []\n",
        "    if test_data.ndim == 1:\n",
        "        # If test_data is a single point\n",
        "        distances = np.linalg.norm(train_data - test_data, axis=1)\n",
        "        nearest_index = np.argmin(distances)\n",
        "        predictions.append(train_labels[nearest_index])\n",
        "    else:\n",
        "        # If test_data is a batch of points\n",
        "        for test_point in test_data:\n",
        "            distances = np.linalg.norm(train_data - test_point, axis=1)\n",
        "            nearest_index = np.argmin(distances)\n",
        "            predictions.append(train_labels[nearest_index])\n",
        "    return np.array(predictions)\n",
        "\n",
        "# Clear previous code that sets up the data and loops\n",
        "\n",
        "# Fixed test set\n",
        "traindata, testdata, trainlabel, testlabel = train_test_split(data, labels, test_size=0.2, random_state=42)\n",
        "\n",
        "# Different sizes of training and validation sets to test\n",
        "train_sizes = [0.5, 0.7, 0.9]  # Varying training set sizes\n",
        "validation_sizes = [0.1, 0.2, 0.3]  # Varying validation set sizes\n",
        "\n",
        "# Store results\n",
        "results = []\n",
        "\n",
        "for train_size in train_sizes:\n",
        "    for val_size in validation_sizes:\n",
        "        traindata_split, valdata, trainlabel_split, vallabel = train_test_split(traindata, trainlabel, test_size=val_size, random_state=42)\n",
        "        traindata_split, _, trainlabel_split, _ = train_test_split(traindata_split, trainlabel_split, train_size=train_size, random_state=42)\n",
        "\n",
        "        # Train models\n",
        "        trainpred_nn = NN(traindata_split, trainlabel_split, traindata_split)\n",
        "        valpred_nn = NN(traindata_split, trainlabel_split, valdata)\n",
        "        testpred_nn = NN(traindata_split, trainlabel_split, testdata)  # Fix here\n",
        "\n",
        "        trainpred_random = RandomClassifier(traindata_split, trainlabel_split, traindata_split)\n",
        "        valpred_random = RandomClassifier(traindata_split, trainlabel_split, valdata)\n",
        "        testpred_random = RandomClassifier(traindata_split, trainlabel_split, testdata)  # Fix here\n",
        "\n",
        "        # Calculate accuracies\n",
        "        train_acc_nn = Accuracy(trainlabel_split, trainpred_nn)\n",
        "        val_acc_nn = Accuracy(vallabel, valpred_nn)\n",
        "        test_acc_nn = Accuracy(testlabel, testpred_nn)\n",
        "\n",
        "        train_acc_random = Accuracy(trainlabel_split, trainpred_random)\n",
        "        val_acc_random = Accuracy(vallabel, valpred_random)\n",
        "        test_acc_random = Accuracy(testlabel, testpred_random)\n",
        "\n",
        "        # Store results\n",
        "        results.append({\n",
        "            'train_size': train_size,\n",
        "            'val_size': val_size,\n",
        "            'train_acc_nn': train_acc_nn,\n",
        "            'val_acc_nn': val_acc_nn,\n",
        "            'test_acc_nn': test_acc_nn,\n",
        "            'train_acc_random': train_acc_random,\n",
        "            'val_acc_random': val_acc_random,\n",
        "            'test_acc_random': test_acc_random\n",
        "        })\n",
        "\n",
        "# Print results (optional)\n",
        "for result in results:\n",
        "    print(f\"Train Size: {result['train_size']}, Val Size: {result['val_size']}, \"\n",
        "          f\"Val Acc (NN): {result['val_acc_nn']:.2f}, Test Acc (NN): {result['test_acc_nn']:.2f}\")\n",
        "\n",
        "# Example plot (optional)\n",
        "import matplotlib.pyplot as plt\n",
        "\n",
        "# Plotting code...\n"
      ],
      "metadata": {
        "colab": {
          "base_uri": "https://localhost:8080/"
        },
        "id": "axuMndPVh6kb",
        "outputId": "35cebbfc-1b62-4aef-ee82-c25514f43f19"
      },
      "execution_count": 56,
      "outputs": [
        {
          "output_type": "stream",
          "name": "stdout",
          "text": [
            "Train Size: 0.5, Val Size: 0.1, Val Acc (NN): 0.00, Test Acc (NN): 1.00\n",
            "Train Size: 0.5, Val Size: 0.2, Val Acc (NN): 0.00, Test Acc (NN): 0.50\n",
            "Train Size: 0.5, Val Size: 0.3, Val Acc (NN): 0.00, Test Acc (NN): 0.50\n",
            "Train Size: 0.7, Val Size: 0.1, Val Acc (NN): 1.00, Test Acc (NN): 0.50\n",
            "Train Size: 0.7, Val Size: 0.2, Val Acc (NN): 0.00, Test Acc (NN): 0.50\n",
            "Train Size: 0.7, Val Size: 0.3, Val Acc (NN): 0.00, Test Acc (NN): 0.50\n",
            "Train Size: 0.9, Val Size: 0.1, Val Acc (NN): 1.00, Test Acc (NN): 0.00\n",
            "Train Size: 0.9, Val Size: 0.2, Val Acc (NN): 0.00, Test Acc (NN): 0.50\n",
            "Train Size: 0.9, Val Size: 0.3, Val Acc (NN): 0.00, Test Acc (NN): 0.50\n"
          ]
        }
      ]
    },
    {
      "cell_type": "markdown",
      "source": [
        "What do you think is a good percentage to reserve for the validation set so that thest two factors are balanced?"
      ],
      "metadata": {
        "id": "yfPfgh4QjkQW"
      }
    },
    {
      "cell_type": "markdown",
      "source": [
        " there's no one-size-fits-all answer, and the optimal percentage may vary depending on your specific dataset, model complexity, and goals. It often involves experimentation and iterative improvement based on observed model performance."
      ],
      "metadata": {
        "id": "VCR5F8i7kPF8"
      }
    },
    {
      "cell_type": "code",
      "source": [
        "import numpy as np\n",
        "from sklearn.datasets import load_iris\n",
        "from sklearn.model_selection import train_test_split\n",
        "from sklearn.neighbors import KNeighborsClassifier\n",
        "from sklearn.metrics import accuracy_score\n",
        "\n",
        "\n",
        "iris = load_iris()\n",
        "X = iris.data\n",
        "y = iris.target\n",
        "\n",
        "\n",
        "X_train, X_test, y_train, y_test = train_test_split(X, y, test_size=0.3, random_state=42)\n",
        "\n",
        "\n",
        "knn_1 = KNeighborsClassifier(n_neighbors=1)\n",
        "knn_1.fit(X_train, y_train)\n",
        "y_pred_1 = knn_1.predict(X_test)\n",
        "accuracy_1 = accuracy_score(y_test, y_pred_1)\n",
        "print(f\"Accuracy of 1-Nearest Neighbor Classifier: {accuracy_1:.2f}\")\n",
        "\n",
        "knn_3 = KNeighborsClassifier(n_neighbors=3)\n",
        "knn_3.fit(X_train, y_train)\n",
        "y_pred_3 = knn_3.predict(X_test)\n",
        "accuracy_3 = accuracy_score(y_test, y_pred_3)\n",
        "print(f\"Accuracy of 3-Nearest Neighbor Classifier: {accuracy_3:.2f}\")\n"
      ],
      "metadata": {
        "colab": {
          "base_uri": "https://localhost:8080/"
        },
        "id": "DRJji4JwktL1",
        "outputId": "71c46366-95f8-44b2-dfe5-3a58d8dab45e"
      },
      "execution_count": 57,
      "outputs": [
        {
          "output_type": "stream",
          "name": "stdout",
          "text": [
            "Accuracy of 1-Nearest Neighbor Classifier: 1.00\n",
            "Accuracy of 3-Nearest Neighbor Classifier: 1.00\n"
          ]
        }
      ]
    },
    {
      "cell_type": "markdown",
      "source": [
        "# Multiple Splits"
      ],
      "metadata": {
        "id": "-UWwQA16k1t1"
      }
    },
    {
      "cell_type": "markdown",
      "source": [
        "One way to get more accurate estimates for the test accuracy is by using cross-validation. Here, we will try a simple version, where we do multiple train/val splits and take the average of validation accuracies as the test accuracy estimation. Here is a function for doing this. Note that this function will take a long time to execute. You can reduce the number of splits to make it faster."
      ],
      "metadata": {
        "id": "WP6dEOD_k9uB"
      }
    },
    {
      "cell_type": "code",
      "source": [
        "def AverageAccuracy(alldata, alllabel, splitpercent, iterations, classifier=NN):\n",
        "    \"\"\"\n",
        "    This function takes in the data, labels, split percentage, number of iterations and classifier function\n",
        "    and returns the average accuracy of the classifier\n",
        "\n",
        "    alldata: numpy array of shape (n,d) where n is the number of samples and d is the number of features\n",
        "    alllabel: numpy array of shape (n,) where n is the number of samples\n",
        "    splitpercent: float which is the percentage of data to be used for training\n",
        "    iterations: int which is the number of iterations to run the classifier\n",
        "    classifier: function which is the classifier function to be used\n",
        "\n",
        "    returns: the average accuracy of the classifier\n",
        "    \"\"\"\n",
        "    accuracy = 0\n",
        "    for ii in range(iterations):\n",
        "        traindata, trainlabel, valdata, vallabel = split(\n",
        "            alldata, alllabel, splitpercent\n",
        "        )\n",
        "        valpred = classifier(traindata, trainlabel, valdata)\n",
        "        accuracy += Accuracy(vallabel, valpred)\n",
        "    return accuracy / iterations  # average of all accuracies"
      ],
      "metadata": {
        "id": "-dmXSTAalAt0"
      },
      "execution_count": 58,
      "outputs": []
    },
    {
      "cell_type": "markdown",
      "source": [
        "## Questions"
      ],
      "metadata": {
        "id": "aelFTONumbP6"
      }
    },
    {
      "cell_type": "markdown",
      "source": [
        "# Does averaging the validation accuracy across multiple splits give more consistent results?"
      ],
      "metadata": {
        "id": "7ZWZlOKqmfbK"
      }
    },
    {
      "cell_type": "markdown",
      "source": [
        "averaging validation accuracy across multiple splits is a recommended practice to obtain more consistent and reliable estimates of your model's performance on unseen data. It helps in assessing the generalization ability of the model and making more informed decisions about model selection and tuning."
      ],
      "metadata": {
        "id": "g0Lot4DDmxeR"
      }
    },
    {
      "cell_type": "markdown",
      "source": [
        "### Does it give more accurate estimate of test accuracy?"
      ],
      "metadata": {
        "id": "5gs_9ATUnIld"
      }
    },
    {
      "cell_type": "markdown",
      "source": [
        "Cross-validation (averaging validation accuracy across multiple splits) provides a more robust estimate of your model's generalization ability compared to using a single validation split. While it does not directly estimate test accuracy, it helps in selecting better models and understanding their expected performance on new, unseen data. To obtain the actual test accuracy, it's crucial to evaluate your final model on a dedicated test set that was not used during training or model selection. This ensures an unbiased assessment of your model's real-world performance.\n",
        "\n",
        "\n",
        "\n",
        "\n",
        "\n",
        "\n"
      ],
      "metadata": {
        "id": "N_6s9W_jnCEA"
      }
    },
    {
      "cell_type": "markdown",
      "source": [
        "## What is the effect of the number of iterations on the estimate? Do we get a better estimate with higher iterations?"
      ],
      "metadata": {
        "id": "mQznRQtcnDZj"
      }
    },
    {
      "cell_type": "code",
      "source": [
        "import numpy as np\n",
        "from sklearn.model_selection import cross_val_score, StratifiedKFold\n",
        "from sklearn.neighbors import KNeighborsClassifier\n",
        "\n",
        "# Example dataset\n",
        "X = np.array([[1, 2], [2, 3], [3, 4], [4, 5], [5, 6]])\n",
        "y = np.array([0, 0, 1, 1, 1])\n",
        "\n",
        "# Check class distribution\n",
        "unique_classes, class_counts = np.unique(y, return_counts=True)\n",
        "print(\"Class distribution:\", dict(zip(unique_classes, class_counts)))\n",
        "\n",
        "# Define the K-Nearest Neighbors classifier\n",
        "knn = KNeighborsClassifier(n_neighbors=1)\n",
        "\n",
        "# List to store mean cross-validation accuracies\n",
        "mean_cv_accuracies = []\n",
        "\n",
        "# List of different number of cross-validation iterations (folds)\n",
        "cv_iterations = [3, 2, 1]  # Adjust based on class distribution\n",
        "\n",
        "# Calculate cross-validation accuracies for each number of iterations\n",
        "for cv_iter in cv_iterations:\n",
        "    if cv_iter > np.min(class_counts) or cv_iter < 2:\n",
        "        print(f\"Skipping CV={cv_iter} as it exceeds the number of members in smallest class or requires at least one train/test split.\")\n",
        "        continue\n",
        "\n",
        "    # Perform stratified cross-validation and compute mean accuracy\n",
        "    skf = StratifiedKFold(n_splits=cv_iter)\n",
        "    cv_accuracies = cross_val_score(knn, X, y, cv=skf)\n",
        "    mean_cv_accuracy = np.mean(cv_accuracies)\n",
        "    mean_cv_accuracies.append(mean_cv_accuracy)\n",
        "\n",
        "# Print results\n",
        "for i, cv_iter in enumerate(cv_iterations):\n",
        "    if cv_iter <= np.min(class_counts) and cv_iter >= 2 and i < len(mean_cv_accuracies):\n",
        "        print(f\"Mean CV Accuracy (CV={cv_iter}): {mean_cv_accuracies[i] * 100:.2f}%\")\n"
      ],
      "metadata": {
        "colab": {
          "base_uri": "https://localhost:8080/"
        },
        "id": "kH26qYf4pDIf",
        "outputId": "17ec79f4-42dc-488a-8b83-602e55d5a7d4"
      },
      "execution_count": 59,
      "outputs": [
        {
          "output_type": "stream",
          "name": "stdout",
          "text": [
            "Class distribution: {0: 2, 1: 3}\n",
            "Skipping CV=3 as it exceeds the number of members in smallest class or requires at least one train/test split.\n",
            "Skipping CV=1 as it exceeds the number of members in smallest class or requires at least one train/test split.\n"
          ]
        }
      ]
    },
    {
      "cell_type": "markdown",
      "source": [
        "## Consider the results you got for the previous questions. Can we deal with a very small train dataset or validation dataset by increasing the iterations?"
      ],
      "metadata": {
        "id": "hM_KifgvpOAK"
      }
    },
    {
      "cell_type": "markdown",
      "source": [
        "Yes, increasing the number of iterations in cross-validation can help mitigate the impact of having a very small train or validation dataset. Here’s how increasing iterations can be beneficial:"
      ],
      "metadata": {
        "id": "RxwvltpXpZrl"
      }
    },
    {
      "cell_type": "markdown",
      "source": [
        "# Exercise: How does the accuracy of the 3 nearest neighbour classifier change with the number of splits? How is it affected by the split size? Compare the results with the 1 nearest neighbour classifier.\n",
        "\n"
      ],
      "metadata": {
        "id": "6IQwYEM4p07E"
      }
    },
    {
      "cell_type": "markdown",
      "source": [
        "Here's a simplified and short version of the code comparing the accuracy of 1-nearest neighbor (1-NN) and 3-nearest neighbor (3-NN) classifiers using cross-validation:"
      ],
      "metadata": {
        "id": "nYPmC4kVqXck"
      }
    },
    {
      "cell_type": "code",
      "source": [
        "import numpy as np\n",
        "from sklearn.datasets import make_classification\n",
        "from sklearn.model_selection import cross_val_score, train_test_split\n",
        "from sklearn.neighbors import KNeighborsClassifier\n",
        "\n",
        "# Generate a synthetic dataset\n",
        "X, y = make_classification(n_samples=1000, n_features=10, n_classes=2, random_state=42)\n",
        "\n",
        "# Split data into training and test sets\n",
        "X_train, X_test, y_train, y_test = train_test_split(X, y, test_size=0.3, random_state=42)\n",
        "\n",
        "# Define classifiers\n",
        "knn1 = KNeighborsClassifier(n_neighbors=1)\n",
        "knn3 = KNeighborsClassifier(n_neighbors=3)\n",
        "\n",
        "# Perform cross-validation with 5 folds\n",
        "cv_acc_1nn = cross_val_score(knn1, X_train, y_train, cv=5)\n",
        "cv_acc_3nn = cross_val_score(knn3, X_train, y_train, cv=5)\n",
        "\n",
        "# Print mean cross-validation accuracies\n",
        "print(f\"Mean Cross-Validation Accuracy (1-NN): {np.mean(cv_acc_1nn) * 100:.2f}%\")\n",
        "print(f\"Mean Cross-Validation Accuracy (3-NN): {np.mean(cv_acc_3nn) * 100:.2f}%\")\n",
        "\n",
        "# Train on the full training set and evaluate on the test set\n",
        "knn1.fit(X_train, y_train)\n",
        "test_acc_1nn = knn1.score(X_test, y_test)\n",
        "print(f\"Test Accuracy (1-NN): {test_acc_1nn * 100:.2f}%\")\n",
        "\n",
        "knn3.fit(X_train, y_train)\n",
        "test_acc_3nn = knn3.score(X_test, y_test)\n",
        "print(f\"Test Accuracy (3-NN): {test_acc_3nn * 100:.2f}%\")\n"
      ],
      "metadata": {
        "colab": {
          "base_uri": "https://localhost:8080/"
        },
        "id": "9YvNeKtrp3s8",
        "outputId": "61aa0292-0de1-4746-90a0-cf05682f7103"
      },
      "execution_count": 60,
      "outputs": [
        {
          "output_type": "stream",
          "name": "stdout",
          "text": [
            "Mean Cross-Validation Accuracy (1-NN): 80.43%\n",
            "Mean Cross-Validation Accuracy (3-NN): 83.86%\n",
            "Test Accuracy (1-NN): 81.33%\n",
            "Test Accuracy (3-NN): 80.67%\n"
          ]
        }
      ]
    }
  ]
}