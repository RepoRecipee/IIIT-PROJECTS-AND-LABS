{
  "nbformat": 4,
  "nbformat_minor": 0,
  "metadata": {
    "colab": {
      "provenance": [],
      "authorship_tag": "ABX9TyOrm+DUR57Ghtxdko3M/4Wd",
      "include_colab_link": true
    },
    "kernelspec": {
      "name": "python3",
      "display_name": "Python 3"
    },
    "language_info": {
      "name": "python"
    }
  },
  "cells": [
    {
      "cell_type": "markdown",
      "metadata": {
        "id": "view-in-github",
        "colab_type": "text"
      },
      "source": [
        "<a href=\"https://colab.research.google.com/github/RepoRecipee/IIIT-PROJECTS-AND-LABS/blob/main/AIML_Course_Probability_Primer.ipynb\" target=\"_parent\"><img src=\"https://colab.research.google.com/assets/colab-badge.svg\" alt=\"Open In Colab\"/></a>"
      ]
    },
    {
      "cell_type": "markdown",
      "source": [
        "STATISTICS AND PROBABILITY :FUNDAMENTALS"
      ],
      "metadata": {
        "id": "_rUXHmq5PLRi"
      }
    },
    {
      "cell_type": "code",
      "execution_count": 6,
      "metadata": {
        "id": "D1bt0wKFPGIk"
      },
      "outputs": [],
      "source": [
        "import numpy as np\n",
        "import pandas as pd\n",
        "from matplotlib import pyplot as plt\n",
        "import seaborn as sns\n",
        "\n",
        "import plotly.graph_objects as pg\n",
        "import plotly.express as px\n",
        "\n"
      ]
    },
    {
      "cell_type": "markdown",
      "source": [
        "Probability\n"
      ],
      "metadata": {
        "id": "n5oLXWbvRE4-"
      }
    },
    {
      "cell_type": "code",
      "source": [
        "def toss_coin(number_of_tosses=100):\n",
        "    return pd.Series(np.random.choice(['Heads', 'Tails'], number_of_tosses))\n",
        "\n",
        "def throw_dice(number_of_tosses=100):\n",
        "    return pd.Series(np.random.randint(2, 6+1, number_of_tosses))"
      ],
      "metadata": {
        "id": "guE8cSQVRXXl"
      },
      "execution_count": 9,
      "outputs": []
    },
    {
      "cell_type": "code",
      "source": [
        "results = toss_coin()\n",
        "print(results.value_counts())\n",
        "fig = pg.Figure([pg.Bar(x=results.value_counts().keys(),\n",
        "                        y=results.value_counts().values)])\n",
        "fig.show()"
      ],
      "metadata": {
        "colab": {
          "base_uri": "https://localhost:8080/",
          "height": 594
        },
        "id": "gyJxETlwRevT",
        "outputId": "332ec9c9-9db7-4a7a-e94f-0e03182cc9e0"
      },
      "execution_count": 7,
      "outputs": [
        {
          "output_type": "stream",
          "name": "stdout",
          "text": [
            "Heads    59\n",
            "Tails    41\n",
            "Name: count, dtype: int64\n"
          ]
        },
        {
          "output_type": "display_data",
          "data": {
            "text/html": [
              "<html>\n",
              "<head><meta charset=\"utf-8\" /></head>\n",
              "<body>\n",
              "    <div>            <script src=\"https://cdnjs.cloudflare.com/ajax/libs/mathjax/2.7.5/MathJax.js?config=TeX-AMS-MML_SVG\"></script><script type=\"text/javascript\">if (window.MathJax && window.MathJax.Hub && window.MathJax.Hub.Config) {window.MathJax.Hub.Config({SVG: {font: \"STIX-Web\"}});}</script>                <script type=\"text/javascript\">window.PlotlyConfig = {MathJaxConfig: 'local'};</script>\n",
              "        <script charset=\"utf-8\" src=\"https://cdn.plot.ly/plotly-2.24.1.min.js\"></script>                <div id=\"82c35df2-b23c-4767-9b5a-4708c1852e5c\" class=\"plotly-graph-div\" style=\"height:525px; width:100%;\"></div>            <script type=\"text/javascript\">                                    window.PLOTLYENV=window.PLOTLYENV || {};                                    if (document.getElementById(\"82c35df2-b23c-4767-9b5a-4708c1852e5c\")) {                    Plotly.newPlot(                        \"82c35df2-b23c-4767-9b5a-4708c1852e5c\",                        [{\"x\":[\"Heads\",\"Tails\"],\"y\":[59,41],\"type\":\"bar\"}],                        {\"template\":{\"data\":{\"histogram2dcontour\":[{\"type\":\"histogram2dcontour\",\"colorbar\":{\"outlinewidth\":0,\"ticks\":\"\"},\"colorscale\":[[0.0,\"#0d0887\"],[0.1111111111111111,\"#46039f\"],[0.2222222222222222,\"#7201a8\"],[0.3333333333333333,\"#9c179e\"],[0.4444444444444444,\"#bd3786\"],[0.5555555555555556,\"#d8576b\"],[0.6666666666666666,\"#ed7953\"],[0.7777777777777778,\"#fb9f3a\"],[0.8888888888888888,\"#fdca26\"],[1.0,\"#f0f921\"]]}],\"choropleth\":[{\"type\":\"choropleth\",\"colorbar\":{\"outlinewidth\":0,\"ticks\":\"\"}}],\"histogram2d\":[{\"type\":\"histogram2d\",\"colorbar\":{\"outlinewidth\":0,\"ticks\":\"\"},\"colorscale\":[[0.0,\"#0d0887\"],[0.1111111111111111,\"#46039f\"],[0.2222222222222222,\"#7201a8\"],[0.3333333333333333,\"#9c179e\"],[0.4444444444444444,\"#bd3786\"],[0.5555555555555556,\"#d8576b\"],[0.6666666666666666,\"#ed7953\"],[0.7777777777777778,\"#fb9f3a\"],[0.8888888888888888,\"#fdca26\"],[1.0,\"#f0f921\"]]}],\"heatmap\":[{\"type\":\"heatmap\",\"colorbar\":{\"outlinewidth\":0,\"ticks\":\"\"},\"colorscale\":[[0.0,\"#0d0887\"],[0.1111111111111111,\"#46039f\"],[0.2222222222222222,\"#7201a8\"],[0.3333333333333333,\"#9c179e\"],[0.4444444444444444,\"#bd3786\"],[0.5555555555555556,\"#d8576b\"],[0.6666666666666666,\"#ed7953\"],[0.7777777777777778,\"#fb9f3a\"],[0.8888888888888888,\"#fdca26\"],[1.0,\"#f0f921\"]]}],\"heatmapgl\":[{\"type\":\"heatmapgl\",\"colorbar\":{\"outlinewidth\":0,\"ticks\":\"\"},\"colorscale\":[[0.0,\"#0d0887\"],[0.1111111111111111,\"#46039f\"],[0.2222222222222222,\"#7201a8\"],[0.3333333333333333,\"#9c179e\"],[0.4444444444444444,\"#bd3786\"],[0.5555555555555556,\"#d8576b\"],[0.6666666666666666,\"#ed7953\"],[0.7777777777777778,\"#fb9f3a\"],[0.8888888888888888,\"#fdca26\"],[1.0,\"#f0f921\"]]}],\"contourcarpet\":[{\"type\":\"contourcarpet\",\"colorbar\":{\"outlinewidth\":0,\"ticks\":\"\"}}],\"contour\":[{\"type\":\"contour\",\"colorbar\":{\"outlinewidth\":0,\"ticks\":\"\"},\"colorscale\":[[0.0,\"#0d0887\"],[0.1111111111111111,\"#46039f\"],[0.2222222222222222,\"#7201a8\"],[0.3333333333333333,\"#9c179e\"],[0.4444444444444444,\"#bd3786\"],[0.5555555555555556,\"#d8576b\"],[0.6666666666666666,\"#ed7953\"],[0.7777777777777778,\"#fb9f3a\"],[0.8888888888888888,\"#fdca26\"],[1.0,\"#f0f921\"]]}],\"surface\":[{\"type\":\"surface\",\"colorbar\":{\"outlinewidth\":0,\"ticks\":\"\"},\"colorscale\":[[0.0,\"#0d0887\"],[0.1111111111111111,\"#46039f\"],[0.2222222222222222,\"#7201a8\"],[0.3333333333333333,\"#9c179e\"],[0.4444444444444444,\"#bd3786\"],[0.5555555555555556,\"#d8576b\"],[0.6666666666666666,\"#ed7953\"],[0.7777777777777778,\"#fb9f3a\"],[0.8888888888888888,\"#fdca26\"],[1.0,\"#f0f921\"]]}],\"mesh3d\":[{\"type\":\"mesh3d\",\"colorbar\":{\"outlinewidth\":0,\"ticks\":\"\"}}],\"scatter\":[{\"fillpattern\":{\"fillmode\":\"overlay\",\"size\":10,\"solidity\":0.2},\"type\":\"scatter\"}],\"parcoords\":[{\"type\":\"parcoords\",\"line\":{\"colorbar\":{\"outlinewidth\":0,\"ticks\":\"\"}}}],\"scatterpolargl\":[{\"type\":\"scatterpolargl\",\"marker\":{\"colorbar\":{\"outlinewidth\":0,\"ticks\":\"\"}}}],\"bar\":[{\"error_x\":{\"color\":\"#2a3f5f\"},\"error_y\":{\"color\":\"#2a3f5f\"},\"marker\":{\"line\":{\"color\":\"#E5ECF6\",\"width\":0.5},\"pattern\":{\"fillmode\":\"overlay\",\"size\":10,\"solidity\":0.2}},\"type\":\"bar\"}],\"scattergeo\":[{\"type\":\"scattergeo\",\"marker\":{\"colorbar\":{\"outlinewidth\":0,\"ticks\":\"\"}}}],\"scatterpolar\":[{\"type\":\"scatterpolar\",\"marker\":{\"colorbar\":{\"outlinewidth\":0,\"ticks\":\"\"}}}],\"histogram\":[{\"marker\":{\"pattern\":{\"fillmode\":\"overlay\",\"size\":10,\"solidity\":0.2}},\"type\":\"histogram\"}],\"scattergl\":[{\"type\":\"scattergl\",\"marker\":{\"colorbar\":{\"outlinewidth\":0,\"ticks\":\"\"}}}],\"scatter3d\":[{\"type\":\"scatter3d\",\"line\":{\"colorbar\":{\"outlinewidth\":0,\"ticks\":\"\"}},\"marker\":{\"colorbar\":{\"outlinewidth\":0,\"ticks\":\"\"}}}],\"scattermapbox\":[{\"type\":\"scattermapbox\",\"marker\":{\"colorbar\":{\"outlinewidth\":0,\"ticks\":\"\"}}}],\"scatterternary\":[{\"type\":\"scatterternary\",\"marker\":{\"colorbar\":{\"outlinewidth\":0,\"ticks\":\"\"}}}],\"scattercarpet\":[{\"type\":\"scattercarpet\",\"marker\":{\"colorbar\":{\"outlinewidth\":0,\"ticks\":\"\"}}}],\"carpet\":[{\"aaxis\":{\"endlinecolor\":\"#2a3f5f\",\"gridcolor\":\"white\",\"linecolor\":\"white\",\"minorgridcolor\":\"white\",\"startlinecolor\":\"#2a3f5f\"},\"baxis\":{\"endlinecolor\":\"#2a3f5f\",\"gridcolor\":\"white\",\"linecolor\":\"white\",\"minorgridcolor\":\"white\",\"startlinecolor\":\"#2a3f5f\"},\"type\":\"carpet\"}],\"table\":[{\"cells\":{\"fill\":{\"color\":\"#EBF0F8\"},\"line\":{\"color\":\"white\"}},\"header\":{\"fill\":{\"color\":\"#C8D4E3\"},\"line\":{\"color\":\"white\"}},\"type\":\"table\"}],\"barpolar\":[{\"marker\":{\"line\":{\"color\":\"#E5ECF6\",\"width\":0.5},\"pattern\":{\"fillmode\":\"overlay\",\"size\":10,\"solidity\":0.2}},\"type\":\"barpolar\"}],\"pie\":[{\"automargin\":true,\"type\":\"pie\"}]},\"layout\":{\"autotypenumbers\":\"strict\",\"colorway\":[\"#636efa\",\"#EF553B\",\"#00cc96\",\"#ab63fa\",\"#FFA15A\",\"#19d3f3\",\"#FF6692\",\"#B6E880\",\"#FF97FF\",\"#FECB52\"],\"font\":{\"color\":\"#2a3f5f\"},\"hovermode\":\"closest\",\"hoverlabel\":{\"align\":\"left\"},\"paper_bgcolor\":\"white\",\"plot_bgcolor\":\"#E5ECF6\",\"polar\":{\"bgcolor\":\"#E5ECF6\",\"angularaxis\":{\"gridcolor\":\"white\",\"linecolor\":\"white\",\"ticks\":\"\"},\"radialaxis\":{\"gridcolor\":\"white\",\"linecolor\":\"white\",\"ticks\":\"\"}},\"ternary\":{\"bgcolor\":\"#E5ECF6\",\"aaxis\":{\"gridcolor\":\"white\",\"linecolor\":\"white\",\"ticks\":\"\"},\"baxis\":{\"gridcolor\":\"white\",\"linecolor\":\"white\",\"ticks\":\"\"},\"caxis\":{\"gridcolor\":\"white\",\"linecolor\":\"white\",\"ticks\":\"\"}},\"coloraxis\":{\"colorbar\":{\"outlinewidth\":0,\"ticks\":\"\"}},\"colorscale\":{\"sequential\":[[0.0,\"#0d0887\"],[0.1111111111111111,\"#46039f\"],[0.2222222222222222,\"#7201a8\"],[0.3333333333333333,\"#9c179e\"],[0.4444444444444444,\"#bd3786\"],[0.5555555555555556,\"#d8576b\"],[0.6666666666666666,\"#ed7953\"],[0.7777777777777778,\"#fb9f3a\"],[0.8888888888888888,\"#fdca26\"],[1.0,\"#f0f921\"]],\"sequentialminus\":[[0.0,\"#0d0887\"],[0.1111111111111111,\"#46039f\"],[0.2222222222222222,\"#7201a8\"],[0.3333333333333333,\"#9c179e\"],[0.4444444444444444,\"#bd3786\"],[0.5555555555555556,\"#d8576b\"],[0.6666666666666666,\"#ed7953\"],[0.7777777777777778,\"#fb9f3a\"],[0.8888888888888888,\"#fdca26\"],[1.0,\"#f0f921\"]],\"diverging\":[[0,\"#8e0152\"],[0.1,\"#c51b7d\"],[0.2,\"#de77ae\"],[0.3,\"#f1b6da\"],[0.4,\"#fde0ef\"],[0.5,\"#f7f7f7\"],[0.6,\"#e6f5d0\"],[0.7,\"#b8e186\"],[0.8,\"#7fbc41\"],[0.9,\"#4d9221\"],[1,\"#276419\"]]},\"xaxis\":{\"gridcolor\":\"white\",\"linecolor\":\"white\",\"ticks\":\"\",\"title\":{\"standoff\":15},\"zerolinecolor\":\"white\",\"automargin\":true,\"zerolinewidth\":2},\"yaxis\":{\"gridcolor\":\"white\",\"linecolor\":\"white\",\"ticks\":\"\",\"title\":{\"standoff\":15},\"zerolinecolor\":\"white\",\"automargin\":true,\"zerolinewidth\":2},\"scene\":{\"xaxis\":{\"backgroundcolor\":\"#E5ECF6\",\"gridcolor\":\"white\",\"linecolor\":\"white\",\"showbackground\":true,\"ticks\":\"\",\"zerolinecolor\":\"white\",\"gridwidth\":2},\"yaxis\":{\"backgroundcolor\":\"#E5ECF6\",\"gridcolor\":\"white\",\"linecolor\":\"white\",\"showbackground\":true,\"ticks\":\"\",\"zerolinecolor\":\"white\",\"gridwidth\":2},\"zaxis\":{\"backgroundcolor\":\"#E5ECF6\",\"gridcolor\":\"white\",\"linecolor\":\"white\",\"showbackground\":true,\"ticks\":\"\",\"zerolinecolor\":\"white\",\"gridwidth\":2}},\"shapedefaults\":{\"line\":{\"color\":\"#2a3f5f\"}},\"annotationdefaults\":{\"arrowcolor\":\"#2a3f5f\",\"arrowhead\":0,\"arrowwidth\":1},\"geo\":{\"bgcolor\":\"white\",\"landcolor\":\"#E5ECF6\",\"subunitcolor\":\"white\",\"showland\":true,\"showlakes\":true,\"lakecolor\":\"white\"},\"title\":{\"x\":0.05},\"mapbox\":{\"style\":\"light\"}}}},                        {\"responsive\": true}                    ).then(function(){\n",
              "                            \n",
              "var gd = document.getElementById('82c35df2-b23c-4767-9b5a-4708c1852e5c');\n",
              "var x = new MutationObserver(function (mutations, observer) {{\n",
              "        var display = window.getComputedStyle(gd).display;\n",
              "        if (!display || display === 'none') {{\n",
              "            console.log([gd, 'removed!']);\n",
              "            Plotly.purge(gd);\n",
              "            observer.disconnect();\n",
              "        }}\n",
              "}});\n",
              "\n",
              "// Listen for the removal of the full notebook cells\n",
              "var notebookContainer = gd.closest('#notebook-container');\n",
              "if (notebookContainer) {{\n",
              "    x.observe(notebookContainer, {childList: true});\n",
              "}}\n",
              "\n",
              "// Listen for the clearing of the current output cell\n",
              "var outputEl = gd.closest('.output');\n",
              "if (outputEl) {{\n",
              "    x.observe(outputEl, {childList: true});\n",
              "}}\n",
              "\n",
              "                        })                };                            </script>        </div>\n",
              "</body>\n",
              "</html>"
            ]
          },
          "metadata": {}
        }
      ]
    },
    {
      "cell_type": "markdown",
      "source": [
        "**Derived Probability Distributions:**\n"
      ],
      "metadata": {
        "id": "R7zgY2EyXzEh"
      }
    },
    {
      "cell_type": "markdown",
      "source": [
        "let's create a scenario where we simulate tossing a fair coin 100 times and then analyze the probability distribution of the outcomes. Here's how you can do it:\n",
        "\n",
        "\n"
      ],
      "metadata": {
        "id": "mk8rW1PIX7-V"
      }
    },
    {
      "cell_type": "code",
      "source": [
        "def toss_coin(number_of_tosses=100):\n",
        "    return pd.Series(np.random.choice(['Heads', 'Tails'], number_of_tosses))\n",
        "results = toss_coin(100)\n",
        "probability_distribution = results.value_counts(normalize=True)\n",
        "fig = pg.Figure(data=[pg.Bar(x=probability_distribution.index, y=probability_distribution.values)])\n",
        "fig.update_layout(title=\"Probability Distribution of Coin Tosses\",\n",
        "                  xaxis_title=\"Outcome\",\n",
        "                  yaxis_title=\"Probability\")\n",
        "fig.show()"
      ],
      "metadata": {
        "colab": {
          "base_uri": "https://localhost:8080/",
          "height": 542
        },
        "id": "1eJAEXIcYSRg",
        "outputId": "819604bc-3923-4631-eb6f-9a126a95c249"
      },
      "execution_count": 12,
      "outputs": [
        {
          "output_type": "display_data",
          "data": {
            "text/html": [
              "<html>\n",
              "<head><meta charset=\"utf-8\" /></head>\n",
              "<body>\n",
              "    <div>            <script src=\"https://cdnjs.cloudflare.com/ajax/libs/mathjax/2.7.5/MathJax.js?config=TeX-AMS-MML_SVG\"></script><script type=\"text/javascript\">if (window.MathJax && window.MathJax.Hub && window.MathJax.Hub.Config) {window.MathJax.Hub.Config({SVG: {font: \"STIX-Web\"}});}</script>                <script type=\"text/javascript\">window.PlotlyConfig = {MathJaxConfig: 'local'};</script>\n",
              "        <script charset=\"utf-8\" src=\"https://cdn.plot.ly/plotly-2.24.1.min.js\"></script>                <div id=\"8e7a6507-46ba-4398-90b7-93819bd580a3\" class=\"plotly-graph-div\" style=\"height:525px; width:100%;\"></div>            <script type=\"text/javascript\">                                    window.PLOTLYENV=window.PLOTLYENV || {};                                    if (document.getElementById(\"8e7a6507-46ba-4398-90b7-93819bd580a3\")) {                    Plotly.newPlot(                        \"8e7a6507-46ba-4398-90b7-93819bd580a3\",                        [{\"x\":[\"Tails\",\"Heads\"],\"y\":[0.56,0.44],\"type\":\"bar\"}],                        {\"template\":{\"data\":{\"histogram2dcontour\":[{\"type\":\"histogram2dcontour\",\"colorbar\":{\"outlinewidth\":0,\"ticks\":\"\"},\"colorscale\":[[0.0,\"#0d0887\"],[0.1111111111111111,\"#46039f\"],[0.2222222222222222,\"#7201a8\"],[0.3333333333333333,\"#9c179e\"],[0.4444444444444444,\"#bd3786\"],[0.5555555555555556,\"#d8576b\"],[0.6666666666666666,\"#ed7953\"],[0.7777777777777778,\"#fb9f3a\"],[0.8888888888888888,\"#fdca26\"],[1.0,\"#f0f921\"]]}],\"choropleth\":[{\"type\":\"choropleth\",\"colorbar\":{\"outlinewidth\":0,\"ticks\":\"\"}}],\"histogram2d\":[{\"type\":\"histogram2d\",\"colorbar\":{\"outlinewidth\":0,\"ticks\":\"\"},\"colorscale\":[[0.0,\"#0d0887\"],[0.1111111111111111,\"#46039f\"],[0.2222222222222222,\"#7201a8\"],[0.3333333333333333,\"#9c179e\"],[0.4444444444444444,\"#bd3786\"],[0.5555555555555556,\"#d8576b\"],[0.6666666666666666,\"#ed7953\"],[0.7777777777777778,\"#fb9f3a\"],[0.8888888888888888,\"#fdca26\"],[1.0,\"#f0f921\"]]}],\"heatmap\":[{\"type\":\"heatmap\",\"colorbar\":{\"outlinewidth\":0,\"ticks\":\"\"},\"colorscale\":[[0.0,\"#0d0887\"],[0.1111111111111111,\"#46039f\"],[0.2222222222222222,\"#7201a8\"],[0.3333333333333333,\"#9c179e\"],[0.4444444444444444,\"#bd3786\"],[0.5555555555555556,\"#d8576b\"],[0.6666666666666666,\"#ed7953\"],[0.7777777777777778,\"#fb9f3a\"],[0.8888888888888888,\"#fdca26\"],[1.0,\"#f0f921\"]]}],\"heatmapgl\":[{\"type\":\"heatmapgl\",\"colorbar\":{\"outlinewidth\":0,\"ticks\":\"\"},\"colorscale\":[[0.0,\"#0d0887\"],[0.1111111111111111,\"#46039f\"],[0.2222222222222222,\"#7201a8\"],[0.3333333333333333,\"#9c179e\"],[0.4444444444444444,\"#bd3786\"],[0.5555555555555556,\"#d8576b\"],[0.6666666666666666,\"#ed7953\"],[0.7777777777777778,\"#fb9f3a\"],[0.8888888888888888,\"#fdca26\"],[1.0,\"#f0f921\"]]}],\"contourcarpet\":[{\"type\":\"contourcarpet\",\"colorbar\":{\"outlinewidth\":0,\"ticks\":\"\"}}],\"contour\":[{\"type\":\"contour\",\"colorbar\":{\"outlinewidth\":0,\"ticks\":\"\"},\"colorscale\":[[0.0,\"#0d0887\"],[0.1111111111111111,\"#46039f\"],[0.2222222222222222,\"#7201a8\"],[0.3333333333333333,\"#9c179e\"],[0.4444444444444444,\"#bd3786\"],[0.5555555555555556,\"#d8576b\"],[0.6666666666666666,\"#ed7953\"],[0.7777777777777778,\"#fb9f3a\"],[0.8888888888888888,\"#fdca26\"],[1.0,\"#f0f921\"]]}],\"surface\":[{\"type\":\"surface\",\"colorbar\":{\"outlinewidth\":0,\"ticks\":\"\"},\"colorscale\":[[0.0,\"#0d0887\"],[0.1111111111111111,\"#46039f\"],[0.2222222222222222,\"#7201a8\"],[0.3333333333333333,\"#9c179e\"],[0.4444444444444444,\"#bd3786\"],[0.5555555555555556,\"#d8576b\"],[0.6666666666666666,\"#ed7953\"],[0.7777777777777778,\"#fb9f3a\"],[0.8888888888888888,\"#fdca26\"],[1.0,\"#f0f921\"]]}],\"mesh3d\":[{\"type\":\"mesh3d\",\"colorbar\":{\"outlinewidth\":0,\"ticks\":\"\"}}],\"scatter\":[{\"fillpattern\":{\"fillmode\":\"overlay\",\"size\":10,\"solidity\":0.2},\"type\":\"scatter\"}],\"parcoords\":[{\"type\":\"parcoords\",\"line\":{\"colorbar\":{\"outlinewidth\":0,\"ticks\":\"\"}}}],\"scatterpolargl\":[{\"type\":\"scatterpolargl\",\"marker\":{\"colorbar\":{\"outlinewidth\":0,\"ticks\":\"\"}}}],\"bar\":[{\"error_x\":{\"color\":\"#2a3f5f\"},\"error_y\":{\"color\":\"#2a3f5f\"},\"marker\":{\"line\":{\"color\":\"#E5ECF6\",\"width\":0.5},\"pattern\":{\"fillmode\":\"overlay\",\"size\":10,\"solidity\":0.2}},\"type\":\"bar\"}],\"scattergeo\":[{\"type\":\"scattergeo\",\"marker\":{\"colorbar\":{\"outlinewidth\":0,\"ticks\":\"\"}}}],\"scatterpolar\":[{\"type\":\"scatterpolar\",\"marker\":{\"colorbar\":{\"outlinewidth\":0,\"ticks\":\"\"}}}],\"histogram\":[{\"marker\":{\"pattern\":{\"fillmode\":\"overlay\",\"size\":10,\"solidity\":0.2}},\"type\":\"histogram\"}],\"scattergl\":[{\"type\":\"scattergl\",\"marker\":{\"colorbar\":{\"outlinewidth\":0,\"ticks\":\"\"}}}],\"scatter3d\":[{\"type\":\"scatter3d\",\"line\":{\"colorbar\":{\"outlinewidth\":0,\"ticks\":\"\"}},\"marker\":{\"colorbar\":{\"outlinewidth\":0,\"ticks\":\"\"}}}],\"scattermapbox\":[{\"type\":\"scattermapbox\",\"marker\":{\"colorbar\":{\"outlinewidth\":0,\"ticks\":\"\"}}}],\"scatterternary\":[{\"type\":\"scatterternary\",\"marker\":{\"colorbar\":{\"outlinewidth\":0,\"ticks\":\"\"}}}],\"scattercarpet\":[{\"type\":\"scattercarpet\",\"marker\":{\"colorbar\":{\"outlinewidth\":0,\"ticks\":\"\"}}}],\"carpet\":[{\"aaxis\":{\"endlinecolor\":\"#2a3f5f\",\"gridcolor\":\"white\",\"linecolor\":\"white\",\"minorgridcolor\":\"white\",\"startlinecolor\":\"#2a3f5f\"},\"baxis\":{\"endlinecolor\":\"#2a3f5f\",\"gridcolor\":\"white\",\"linecolor\":\"white\",\"minorgridcolor\":\"white\",\"startlinecolor\":\"#2a3f5f\"},\"type\":\"carpet\"}],\"table\":[{\"cells\":{\"fill\":{\"color\":\"#EBF0F8\"},\"line\":{\"color\":\"white\"}},\"header\":{\"fill\":{\"color\":\"#C8D4E3\"},\"line\":{\"color\":\"white\"}},\"type\":\"table\"}],\"barpolar\":[{\"marker\":{\"line\":{\"color\":\"#E5ECF6\",\"width\":0.5},\"pattern\":{\"fillmode\":\"overlay\",\"size\":10,\"solidity\":0.2}},\"type\":\"barpolar\"}],\"pie\":[{\"automargin\":true,\"type\":\"pie\"}]},\"layout\":{\"autotypenumbers\":\"strict\",\"colorway\":[\"#636efa\",\"#EF553B\",\"#00cc96\",\"#ab63fa\",\"#FFA15A\",\"#19d3f3\",\"#FF6692\",\"#B6E880\",\"#FF97FF\",\"#FECB52\"],\"font\":{\"color\":\"#2a3f5f\"},\"hovermode\":\"closest\",\"hoverlabel\":{\"align\":\"left\"},\"paper_bgcolor\":\"white\",\"plot_bgcolor\":\"#E5ECF6\",\"polar\":{\"bgcolor\":\"#E5ECF6\",\"angularaxis\":{\"gridcolor\":\"white\",\"linecolor\":\"white\",\"ticks\":\"\"},\"radialaxis\":{\"gridcolor\":\"white\",\"linecolor\":\"white\",\"ticks\":\"\"}},\"ternary\":{\"bgcolor\":\"#E5ECF6\",\"aaxis\":{\"gridcolor\":\"white\",\"linecolor\":\"white\",\"ticks\":\"\"},\"baxis\":{\"gridcolor\":\"white\",\"linecolor\":\"white\",\"ticks\":\"\"},\"caxis\":{\"gridcolor\":\"white\",\"linecolor\":\"white\",\"ticks\":\"\"}},\"coloraxis\":{\"colorbar\":{\"outlinewidth\":0,\"ticks\":\"\"}},\"colorscale\":{\"sequential\":[[0.0,\"#0d0887\"],[0.1111111111111111,\"#46039f\"],[0.2222222222222222,\"#7201a8\"],[0.3333333333333333,\"#9c179e\"],[0.4444444444444444,\"#bd3786\"],[0.5555555555555556,\"#d8576b\"],[0.6666666666666666,\"#ed7953\"],[0.7777777777777778,\"#fb9f3a\"],[0.8888888888888888,\"#fdca26\"],[1.0,\"#f0f921\"]],\"sequentialminus\":[[0.0,\"#0d0887\"],[0.1111111111111111,\"#46039f\"],[0.2222222222222222,\"#7201a8\"],[0.3333333333333333,\"#9c179e\"],[0.4444444444444444,\"#bd3786\"],[0.5555555555555556,\"#d8576b\"],[0.6666666666666666,\"#ed7953\"],[0.7777777777777778,\"#fb9f3a\"],[0.8888888888888888,\"#fdca26\"],[1.0,\"#f0f921\"]],\"diverging\":[[0,\"#8e0152\"],[0.1,\"#c51b7d\"],[0.2,\"#de77ae\"],[0.3,\"#f1b6da\"],[0.4,\"#fde0ef\"],[0.5,\"#f7f7f7\"],[0.6,\"#e6f5d0\"],[0.7,\"#b8e186\"],[0.8,\"#7fbc41\"],[0.9,\"#4d9221\"],[1,\"#276419\"]]},\"xaxis\":{\"gridcolor\":\"white\",\"linecolor\":\"white\",\"ticks\":\"\",\"title\":{\"standoff\":15},\"zerolinecolor\":\"white\",\"automargin\":true,\"zerolinewidth\":2},\"yaxis\":{\"gridcolor\":\"white\",\"linecolor\":\"white\",\"ticks\":\"\",\"title\":{\"standoff\":15},\"zerolinecolor\":\"white\",\"automargin\":true,\"zerolinewidth\":2},\"scene\":{\"xaxis\":{\"backgroundcolor\":\"#E5ECF6\",\"gridcolor\":\"white\",\"linecolor\":\"white\",\"showbackground\":true,\"ticks\":\"\",\"zerolinecolor\":\"white\",\"gridwidth\":2},\"yaxis\":{\"backgroundcolor\":\"#E5ECF6\",\"gridcolor\":\"white\",\"linecolor\":\"white\",\"showbackground\":true,\"ticks\":\"\",\"zerolinecolor\":\"white\",\"gridwidth\":2},\"zaxis\":{\"backgroundcolor\":\"#E5ECF6\",\"gridcolor\":\"white\",\"linecolor\":\"white\",\"showbackground\":true,\"ticks\":\"\",\"zerolinecolor\":\"white\",\"gridwidth\":2}},\"shapedefaults\":{\"line\":{\"color\":\"#2a3f5f\"}},\"annotationdefaults\":{\"arrowcolor\":\"#2a3f5f\",\"arrowhead\":0,\"arrowwidth\":1},\"geo\":{\"bgcolor\":\"white\",\"landcolor\":\"#E5ECF6\",\"subunitcolor\":\"white\",\"showland\":true,\"showlakes\":true,\"lakecolor\":\"white\"},\"title\":{\"x\":0.05},\"mapbox\":{\"style\":\"light\"}}},\"title\":{\"text\":\"Probability Distribution of Coin Tosses\"},\"xaxis\":{\"title\":{\"text\":\"Outcome\"}},\"yaxis\":{\"title\":{\"text\":\"Probability\"}}},                        {\"responsive\": true}                    ).then(function(){\n",
              "                            \n",
              "var gd = document.getElementById('8e7a6507-46ba-4398-90b7-93819bd580a3');\n",
              "var x = new MutationObserver(function (mutations, observer) {{\n",
              "        var display = window.getComputedStyle(gd).display;\n",
              "        if (!display || display === 'none') {{\n",
              "            console.log([gd, 'removed!']);\n",
              "            Plotly.purge(gd);\n",
              "            observer.disconnect();\n",
              "        }}\n",
              "}});\n",
              "\n",
              "// Listen for the removal of the full notebook cells\n",
              "var notebookContainer = gd.closest('#notebook-container');\n",
              "if (notebookContainer) {{\n",
              "    x.observe(notebookContainer, {childList: true});\n",
              "}}\n",
              "\n",
              "// Listen for the clearing of the current output cell\n",
              "var outputEl = gd.closest('.output');\n",
              "if (outputEl) {{\n",
              "    x.observe(outputEl, {childList: true});\n",
              "}}\n",
              "\n",
              "                        })                };                            </script>        </div>\n",
              "</body>\n",
              "</html>"
            ]
          },
          "metadata": {}
        }
      ]
    },
    {
      "cell_type": "markdown",
      "source": [],
      "metadata": {
        "id": "CfapB46SduI9"
      }
    },
    {
      "cell_type": "markdown",
      "source": [
        "**Regression to the Mean**"
      ],
      "metadata": {
        "id": "Dit90JomYtK2"
      }
    },
    {
      "cell_type": "markdown",
      "source": [
        "Question:\n",
        "Suppose you are conducting an experiment to estimate the average score of students on a difficult test. You initially select a small sample of 10 students and find that their average score is significantly lower than the expected average score based on historical data. What can you infer from this observation, and what steps would you take to improve the accuracy of your estimate?"
      ],
      "metadata": {
        "id": "RtTy55pjZnWP"
      }
    },
    {
      "cell_type": "markdown",
      "source": [
        "To improve the accuracy of our estimate, we should consider increasing the sample size."
      ],
      "metadata": {
        "id": "iTmLkX7-Z8m-"
      }
    },
    {
      "cell_type": "code",
      "source": [
        "import numpy as np\n",
        "\n",
        "# Simulate student scores on a difficult test\n",
        "historical_data = np.random.randint(60, 100, 1000)\n",
        "expected_mean = np.mean(historical_data)\n",
        "\n",
        "\n",
        "sample_size = 10\n",
        "initial_sample = np.random.choice(historical_data, size=sample_size, replace=False)\n",
        "initial_sample_mean = np.mean(initial_sample)\n",
        "\n",
        "\n",
        "if initial_sample_mean < expected_mean:\n",
        "    print(\"The initial sample mean is lower than the expected mean based on historical data.\")\n",
        "    print(\"This observation suggests the possibility of 'Regression to the Mean'.\")\n",
        "\n",
        "\n",
        "    larger_sample_size = 100\n",
        "    larger_sample = np.random.choice(historical_data, size=larger_sample_size, replace=False)\n",
        "    larger_sample_mean = np.mean(larger_sample)\n",
        "    print(f\"Average score from larger sample of {larger_sample_size} students: {larger_sample_mean}\")\n",
        "\n",
        "    if larger_sample_mean > initial_sample_mean:\n",
        "        print(\"The average score from the larger sample has regressed towards the expected mean.\")\n",
        "    else:\n",
        "        print(\"Regression to the mean did not occur. More samples may be needed for accurate estimation.\")\n",
        "\n",
        "else:\n",
        "    print(\"The initial sample mean is not significantly lower than the expected mean.\")\n",
        "    print(\"More samples may be needed to draw conclusions about regression to the mean.\")\n"
      ],
      "metadata": {
        "colab": {
          "base_uri": "https://localhost:8080/"
        },
        "id": "Dum0BBwQaYQz",
        "outputId": "c8846d5d-b043-4c94-8105-090c512efb51"
      },
      "execution_count": 32,
      "outputs": [
        {
          "output_type": "stream",
          "name": "stdout",
          "text": [
            "The initial sample mean is not significantly lower than the expected mean.\n",
            "More samples may be needed to draw conclusions about regression to the mean.\n"
          ]
        }
      ]
    },
    {
      "cell_type": "markdown",
      "source": [
        "QUESTIONS"
      ],
      "metadata": {
        "id": "hTPX57ztbaD5"
      }
    },
    {
      "cell_type": "markdown",
      "source": [
        "1.If you have a shuffled deck of 52 cards, there are 4 aces, 4 kings, 4 queeens, 4 jacks, and 4 of each numbered card from 2 to 10. What is the probability that if you draw a card at random it will be a numbered card."
      ],
      "metadata": {
        "id": "HRcmzudwblWl"
      }
    },
    {
      "cell_type": "code",
      "source": [
        "\n",
        "total_cards = 52\n",
        "aces = 4\n",
        "kings = 4\n",
        "queens = 4\n",
        "jacks = 4\n",
        "numbered_cards_per_type = 4\n",
        "numbered_cards = 9 * numbered_cards_per_type\n",
        "probability_numbered = numbered_cards / total_cards\n",
        "print(f\"The probability that a randomly drawn card is a numbered card (2-10) is: {probability_numbered:.2f}\")\n",
        "card_types = ['Aces', 'Kings', 'Queens', 'Jacks'] + [str(i) for i in range(2, 11)]\n",
        "counts = [aces, kings, queens, jacks] + [numbered_cards_per_type] * 9\n",
        "plt.figure(figsize=(10, 6))\n",
        "plt.bar(card_types, counts, color='skyblue')\n",
        "plt.xlabel('Card Types')\n",
        "plt.ylabel('Number of Cards')\n",
        "plt.title('Distribution of Cards in a Deck')\n",
        "plt.show()\n"
      ],
      "metadata": {
        "colab": {
          "base_uri": "https://localhost:8080/",
          "height": 581
        },
        "id": "HLswGsqgbu3F",
        "outputId": "75ee314e-fe96-40e8-b956-364580ccb0af"
      },
      "execution_count": 14,
      "outputs": [
        {
          "output_type": "stream",
          "name": "stdout",
          "text": [
            "The probability that a randomly drawn card is a numbered card (2-10) is: 0.69\n"
          ]
        },
        {
          "output_type": "display_data",
          "data": {
            "text/plain": [
              "<Figure size 1000x600 with 1 Axes>"
            ],
            "image/png": "[encoded data removed]"
          },
          "metadata": {}
        }
      ]
    },
    {
      "cell_type": "markdown",
      "source": [
        "2.In the same setup as above, you take on card out and look at it, put it back into the deck and shuffle it. Now you pull another card output. What is the probability that both the cards you pulled out are numbered cards.\n",
        "\n"
      ],
      "metadata": {
        "id": "w-yaS1bCcPu4"
      }
    },
    {
      "cell_type": "code",
      "source": [
        "total_cards = 52\n",
        "aces = 4\n",
        "kings = 4\n",
        "queens = 4\n",
        "jacks = 4\n",
        "numbered_cards_per_type = 4  # Each of 2, 3, ..., 10\n",
        "numbered_cards = 9 * numbered_cards_per_type\n",
        "probability_numbered = numbered_cards / total_cards\n",
        "probability_both_numbered = probability_numbered ** 2\n",
        "print(f\"The probability that both drawn cards are numbered cards is: {probability_both_numbered:.4f}\")\n",
        "card_types = ['Aces', 'Kings', 'Queens', 'Jacks'] + [str(i) for i in range(2, 11)]\n",
        "counts = [aces, kings, queens, jacks] + [numbered_cards_per_type] * 9\n",
        "plt.figure(figsize=(10, 6))\n",
        "plt.bar(card_types, counts, color='skyblue')\n",
        "plt.xlabel('Card Types')\n",
        "plt.ylabel('Number of Cards')\n",
        "plt.title('Distribution of Cards in a Deck')\n",
        "plt.figtext(0.15, 0.8, f'P(numbered card) = {probability_numbered:.2f}', fontsize=12, color='red')\n",
        "plt.figtext(0.15, 0.75, f'P(both numbered) = {probability_both_numbered:.4f}', fontsize=12, color='blue')\n",
        "plt.show()"
      ],
      "metadata": {
        "colab": {
          "base_uri": "https://localhost:8080/",
          "height": 581
        },
        "id": "_oClfpTDcTDg",
        "outputId": "cf2802e6-62d2-415e-8a97-6c2b4f218439"
      },
      "execution_count": 16,
      "outputs": [
        {
          "output_type": "stream",
          "name": "stdout",
          "text": [
            "The probability that both drawn cards are numbered cards is: 0.4793\n"
          ]
        },
        {
          "output_type": "display_data",
          "data": {
            "text/plain": [
              "<Figure size 1000x600 with 1 Axes>"
            ],
            "image/png": "[encoded data removed]"
          },
          "metadata": {}
        }
      ]
    },
    {
      "cell_type": "markdown",
      "source": [
        "now when you pull out one card, you throw it out and do not put it back into the deck. Find the probability now that they are both numbered cards that you drew."
      ],
      "metadata": {
        "id": "L9m8fWsCd49I"
      }
    },
    {
      "cell_type": "code",
      "source": [
        "import math\n",
        "\n",
        "total_cards = 52\n",
        "numbered_cards = 36\n",
        "\n",
        "total_ways = math.comb(total_cards, 2)\n",
        "numbered_ways = math.comb(numbered_cards, 2)\n",
        "\n",
        "probability = numbered_ways / total_ways\n",
        "\n",
        "gcd = math.gcd(numbered_ways, total_ways)\n",
        "simplified_numerator = numbered_ways // gcd\n",
        "simplified_denominator = total_ways // gcd\n",
        "\n",
        "print(f\"Probability: {probability}\")\n",
        "print(f\"Simplified fraction: {simplified_numerator}/{simplified_denominator}\")\n"
      ],
      "metadata": {
        "colab": {
          "base_uri": "https://localhost:8080/"
        },
        "id": "lzCbBMh_d9ML",
        "outputId": "f9c620c8-13c2-4a67-f538-fe89b276dfe8"
      },
      "execution_count": 17,
      "outputs": [
        {
          "output_type": "stream",
          "name": "stdout",
          "text": [
            "Probability: 0.4751131221719457\n",
            "Simplified fraction: 105/221\n"
          ]
        }
      ]
    },
    {
      "cell_type": "markdown",
      "source": [
        "Now the deck of card is not shuffled. All the cards are in sorted order, first all the cards from Ace to King of Spades, then Hearts, then Diamonds and then Clubs. You are asked to cut the deck (break it into 2 parts, i.e. pick some cards from the top) at a random location. What is the probability that the bottom card of your cut is an numbered cards card.\n",
        "\n",
        "\n"
      ],
      "metadata": {
        "id": "ilz02kEfeUZ5"
      }
    },
    {
      "cell_type": "markdown",
      "source": [
        "To find the probability that the bottom card of the cut is a numbered card, we need to count how many positions in the deck (from 1 to 52) correspond to numbered cards, and then divide this by the total number of possible cut positions (52)."
      ],
      "metadata": {
        "id": "ViksKgBUekAR"
      }
    },
    {
      "cell_type": "code",
      "source": [
        "def probability_of_numbered_card_cut():\n",
        "\n",
        "    total_cards = 52\n",
        "\n",
        "\n",
        "    numbered_cards_per_suit = 9\n",
        "\n",
        "\n",
        "    num_suits = 4\n",
        "\n",
        "\n",
        "    total_numbered_cards = numbered_cards_per_suit * num_suits\n",
        "\n",
        "\n",
        "    probability = total_numbered_cards / total_cards\n",
        "\n",
        "    return probability\n",
        "\n",
        "# Calculate the probability\n",
        "probability = probability_of_numbered_card_cut()\n",
        "print(\"Probability that the bottom card of your cut is a numbered card:\", probability)\n"
      ],
      "metadata": {
        "colab": {
          "base_uri": "https://localhost:8080/"
        },
        "id": "KdWONDAkelOl",
        "outputId": "1a18eeee-73b4-491f-dd23-be1517539203"
      },
      "execution_count": 18,
      "outputs": [
        {
          "output_type": "stream",
          "name": "stdout",
          "text": [
            "Probability that the bottom card of your cut is a numbered card: 0.6923076923076923\n"
          ]
        }
      ]
    },
    {
      "cell_type": "markdown",
      "source": [
        "Simulating to compute Expectation\n"
      ],
      "metadata": {
        "id": "tn4sb8PVe645"
      }
    },
    {
      "cell_type": "markdown",
      "source": [
        "Question: You toss a fair coin until you get heads. What is the expected number of tosses until you get heads?"
      ],
      "metadata": {
        "id": "sm8YV7-QfBP1"
      }
    },
    {
      "cell_type": "code",
      "source": [
        "import random\n",
        "\n",
        "def toss_coin():\n",
        "    return random.choice(['H', 'T'])\n",
        "\n",
        "def simulate_expected_tosses():\n",
        "    num_tosses = 0\n",
        "    while toss_coin() != 'H':\n",
        "        num_tosses += 1\n",
        "    return num_tosses + 1\n",
        "num_trials = 1000000\n",
        "total_tosses = sum(simulate_expected_tosses() for _ in range(num_trials))\n",
        "expected_tosses = total_tosses / num_trials\n",
        "print(\"Expected number of tosses until getting heads:\", expected_tosses)\n"
      ],
      "metadata": {
        "colab": {
          "base_uri": "https://localhost:8080/"
        },
        "id": "sOc3fKO1gCxO",
        "outputId": "a658c6fb-a190-4d3c-fb4e-ed042853e14c"
      },
      "execution_count": 19,
      "outputs": [
        {
          "output_type": "stream",
          "name": "stdout",
          "text": [
            "Expected number of tosses until getting heads: 1.998793\n"
          ]
        }
      ]
    },
    {
      "cell_type": "markdown",
      "source": [
        "Mathematics ofProbability"
      ],
      "metadata": {
        "id": "iZDDN_Q1gitW"
      }
    },
    {
      "cell_type": "markdown",
      "source": [
        "# Conditional Probability"
      ],
      "metadata": {
        "id": "R8hId4mygosO"
      }
    },
    {
      "cell_type": "markdown",
      "source": [
        "Question on Conditional Probability:\n",
        "Suppose you have a bag containing red and blue balls. The probability of drawing a red ball is 0.6, and the probability of drawing a blue ball is 0.4. Additionally, if you draw a red ball, the probability of drawing another red ball on the next draw is 0.7. However, if you draw a blue ball, the probability of drawing a red ball on the next draw is 0.5."
      ],
      "metadata": {
        "id": "EJzeAOePgpyN"
      }
    },
    {
      "cell_type": "markdown",
      "source": [
        "Probability of drawing a red ball:\n",
        "𝑃\n",
        "(\n",
        "𝑅\n",
        ")\n",
        "=\n",
        "0.6\n",
        "P(R)=0.6\n",
        "Probability of drawing a blue ball:\n",
        "𝑃\n",
        "(\n",
        "𝐵\n",
        ")\n",
        "=\n",
        "0.4\n",
        "P(B)=0.4\n",
        "Probability of drawing a red ball after drawing a red ball:\n",
        "𝑃\n",
        "(\n",
        "𝑅\n",
        "∣\n",
        "𝑅\n",
        ")\n",
        "=\n",
        "0.7\n",
        "P(R∣R)=0.7\n",
        "Probability of drawing a red ball after drawing a blue ball:\n",
        "𝑃\n",
        "(\n",
        "𝑅\n",
        "∣\n",
        "𝐵\n",
        ")\n",
        "=\n",
        "0.5\n",
        "P(R∣B)=0.5\n",
        "To find: Probability of drawing two red balls consecutively\n",
        "𝑃\n",
        "(\n",
        "𝑅\n",
        "∩\n",
        "𝑅\n",
        ")\n",
        "P(R∩R).\n",
        "\n",
        "Solution:\n",
        "We can find\n",
        "𝑃\n",
        "(\n",
        "𝑅\n",
        "∩\n",
        "𝑅\n",
        ")\n",
        "P(R∩R) using conditional probability. We know that:\n",
        "\n",
        "𝑃\n",
        "(\n",
        "𝑅\n",
        "∩\n",
        "𝑅\n",
        ")\n",
        "=\n",
        "𝑃\n",
        "(\n",
        "𝑅\n",
        "∣\n",
        "𝑅\n",
        ")\n",
        "×\n",
        "𝑃\n",
        "(\n",
        "𝑅\n",
        ")\n",
        "P(R∩R)=P(R∣R)×P(R)\n",
        "Since the probability of drawing a red ball after drawing a red ball is 0.7 and the probability of drawing a red ball initially is 0.6, we have:\n",
        "\n",
        "𝑃\n",
        "(\n",
        "𝑅\n",
        "∩\n",
        "𝑅\n",
        ")\n",
        "=\n",
        "0.7\n",
        "×\n",
        "0.6\n",
        "=\n",
        "0.42\n",
        "P(R∩R)=0.7×0.6=0.42\n",
        "So, the probability of drawing two red balls consecutively is 0.42.\n",
        "\n",
        "This solution relies on the definition of conditional probability and the multiplication rule of probability. It's important to note the conditions under which each probability applies and how they are combined to find the desired outcome."
      ],
      "metadata": {
        "id": "1sOX_XdohSGR"
      }
    },
    {
      "cell_type": "code",
      "source": [
        "import networkx as nx\n",
        "import matplotlib.pyplot as plt\n",
        "G = nx.Graph()\n",
        "G.add_nodes_from([1, 2, 3, 4, 5])\n",
        "G.add_edge(1, 2)\n",
        "G.add_edge(2, 3)\n",
        "G.add_edge(3, 4)\n",
        "G.add_edge(4, 5)\n",
        "G.add_edge(5, 1)\n",
        "nx.draw(G, with_labels=True, node_color='skyblue', node_size=2000, font_size=15, font_weight='bold')\n",
        "\n",
        "plt.show()\n"
      ],
      "metadata": {
        "colab": {
          "base_uri": "https://localhost:8080/",
          "height": 516
        },
        "id": "WZG0MCkyg6yi",
        "outputId": "d9761188-20ba-4ed7-b7fb-cdab1d5451a4"
      },
      "execution_count": 20,
      "outputs": [
        {
          "output_type": "display_data",
          "data": {
            "text/plain": [
              "<Figure size 640x480 with 1 Axes>"
            ],
            "image/png": "[encoded data removed]"
          },
          "metadata": {}
        }
      ]
    },
    {
      "cell_type": "markdown",
      "source": [
        "***ASSIGNMENT QUESTIONS***\n",
        "In a survey among few people, 60% read Hindi newspaper, 40% read English newspaper\n",
        "and 20% read both. If a person is chosen at random and if he already reads English\n",
        "newspaper find the probability that he also reads Hindi newspaper."
      ],
      "metadata": {
        "id": "nXxWBmwYjy_V"
      }
    },
    {
      "cell_type": "code",
      "source": [
        "def conditional_probability(hindi_and_english, english):\n",
        "    return hindi_and_english / english\n",
        "\n",
        "hindi_and_english = 0.20\n",
        "english = 0.40\n",
        "\n",
        "probability_hindi_given_english = conditional_probability(hindi_and_english, english)\n",
        "\n",
        "print(\"Probability of reading Hindi newspaper given that they already read English newspaper:\", probability_hindi_given_english)\n"
      ],
      "metadata": {
        "colab": {
          "base_uri": "https://localhost:8080/"
        },
        "id": "M1oeu8dikFH7",
        "outputId": "246a6055-fbbc-4cbe-e45c-e3aa96e2fdec"
      },
      "execution_count": 22,
      "outputs": [
        {
          "output_type": "stream",
          "name": "stdout",
          "text": [
            "Probability of reading Hindi newspaper given that they already read English newspaper: 0.5\n"
          ]
        }
      ]
    },
    {
      "cell_type": "markdown",
      "source": [
        "2.You are given a set of cards numbered from 1 to 15. You choose two cards at random\n",
        "such that the sum of the numbers on the cards is even. What is the probability that both\n",
        "the cards you chose have odd numbers?\n"
      ],
      "metadata": {
        "id": "OtU4jt2DkVZx"
      }
    },
    {
      "cell_type": "markdown",
      "source": [
        "calculates the probability by considering the number of ways to choose two odd-numbered cards out of the 15 cards, given that their sum is even, and then divides it by the total number of ways to choose two cards."
      ],
      "metadata": {
        "id": "9W-CyB4Akkt1"
      }
    },
    {
      "cell_type": "code",
      "source": [
        "def probability_odd_odd(sum_even):\n",
        "    total_even = sum_even // 2  # Number of even numbers <= sum_even/2\n",
        "    total_odd = 15 - total_even  # Number of odd numbers <= 15 - total_even\n",
        "    odd_odd = total_odd * (total_odd - 1)  # Number of ways to choose 2 odd numbers\n",
        "    total_ways = 15 * 14  # Total number of ways to choose 2 cards\n",
        "    return odd_odd / total_ways\n",
        "\n",
        "sum_even = sum(i for i in range(1, 16) if i % 2 == 0)  # Sum of even numbers from 1 to 15\n",
        "probability = probability_odd_odd(sum_even)\n",
        "print(\"Probability that both cards chosen have odd numbers, given that the sum of the numbers on the cards is even:\", probability)\n"
      ],
      "metadata": {
        "colab": {
          "base_uri": "https://localhost:8080/"
        },
        "id": "A_WYS1dskZ9_",
        "outputId": "a2cecf41-8048-4079-9ba7-e74fd7ae9229"
      },
      "execution_count": 23,
      "outputs": [
        {
          "output_type": "stream",
          "name": "stdout",
          "text": [
            "Probability that both cards chosen have odd numbers, given that the sum of the numbers on the cards is even: 0.8666666666666667\n"
          ]
        }
      ]
    },
    {
      "cell_type": "markdown",
      "source": [
        "3.3. Let E and F be events of an experiment such that P(E) = 3/10, P(F) = ½, P(F|E) = 2/5.\n",
        "Find:\n",
        "i. P(E ∩ F)\n",
        "ii. P(E|F)\n",
        "iii. P(E U F)\n"
      ],
      "metadata": {
        "id": "vK_PA7STkrrx"
      }
    },
    {
      "cell_type": "code",
      "source": [
        "# Given probabilities\n",
        "prob_e = 3 / 10\n",
        "prob_f = 1 / 2\n",
        "prob_f_given_e = 2 / 5\n",
        "\n",
        "# i. P(E ∩ F)\n",
        "intersection_prob = prob_f_given_e * prob_e\n",
        "print(\"i. P(E ∩ F):\", intersection_prob)\n",
        "\n",
        "# ii. P(E|F)\n",
        "conditional_prob_e_given_f = intersection_prob / prob_f\n",
        "print(\"ii. P(E|F):\", conditional_prob_e_given_f)\n",
        "\n",
        "# iii. P(E U F)\n",
        "union_prob = prob_e + prob_f - intersection_prob\n",
        "print(\"iii. P(E U F):\", union_prob)\n"
      ],
      "metadata": {
        "colab": {
          "base_uri": "https://localhost:8080/"
        },
        "id": "9hvSQVyrk9UJ",
        "outputId": "932a2606-0b6c-4612-a52b-deb69935821c"
      },
      "execution_count": 24,
      "outputs": [
        {
          "output_type": "stream",
          "name": "stdout",
          "text": [
            "i. P(E ∩ F): 0.12\n",
            "ii. P(E|F): 0.24\n",
            "iii. P(E U F): 0.68\n"
          ]
        }
      ]
    },
    {
      "cell_type": "markdown",
      "source": [
        "# **Bayes' Theorem**"
      ],
      "metadata": {
        "id": "SSlS_pczhpqY"
      }
    },
    {
      "cell_type": "markdown",
      "source": [
        "Problem:\n",
        "A clinic offers a test for a certain disease. The test is 99% accurate, meaning that it correctly identifies a person with the disease 99% of the time, and it correctly identifies a person without the disease 99% of the time. However, only 1% of the population actually has the disease.\n"
      ],
      "metadata": {
        "id": "1Hh25Gv8ixGq"
      }
    },
    {
      "cell_type": "code",
      "source": [
        "def bayes_theorem(prior_prob_a, prob_b_given_a, prob_b_given_not_a):\n",
        "\n",
        "    prob_b = (prob_b_given_a * prior_prob_a) + (prob_b_given_not_a * (1 - prior_prob_a))\n",
        "\n",
        "\n",
        "    posterior_prob_a = (prob_b_given_a * prior_prob_a) / prob_b\n",
        "\n",
        "    return posterior_prob_a\n",
        "\n",
        "\n",
        "prior_prob_a = 0.01\n",
        "prob_b_given_a = 0.99\n",
        "prob_b_given_not_a = 0.01\n",
        "\n",
        "\n",
        "posterior_prob_a = bayes_theorem(prior_prob_a, prob_b_given_a, prob_b_given_not_a)\n",
        "\n",
        "# Print the result\n",
        "print(\"Probability of actually having the disease given a positive test result:\", posterior_prob_a)\n"
      ],
      "metadata": {
        "colab": {
          "base_uri": "https://localhost:8080/"
        },
        "id": "eXjqvOZfi6xu",
        "outputId": "3284f55c-a5e6-4fd3-f442-cce8db00a181"
      },
      "execution_count": 21,
      "outputs": [
        {
          "output_type": "stream",
          "name": "stdout",
          "text": [
            "Probability of actually having the disease given a positive test result: 0.5\n"
          ]
        }
      ]
    },
    {
      "cell_type": "markdown",
      "source": [
        "2.Three persons A, B and C have applied for a job in a private company. The chance of\n",
        "their selections is in the ratio 1 : 2 : 4. The probabilities that A, B and C can introduce\n",
        "changes to improve the profits of the company are 0.8, 0.5 and 0.3, respectively. If the\n",
        "change does not take place, find the probability that it is due to the appointment of C."
      ],
      "metadata": {
        "id": "HbnguHlylUNk"
      }
    },
    {
      "cell_type": "markdown",
      "source": [
        "𝐴\n",
        "A: Person A is selected for the job.\n",
        "𝐵\n",
        "B: Person B is selected for the job.\n",
        "𝐶\n",
        "C: Person C is selected for the job.\n",
        "𝐼\n",
        "I: Introducing change to improve profits.\n",
        "The chance of selection for A, B, and C is in the ratio 1:2:4.\n",
        "The probabilities that A, B, and C can introduce changes to improve profits are 0.8, 0.5, and 0.3, respectively."
      ],
      "metadata": {
        "id": "-3ceoEnwlWML"
      }
    },
    {
      "cell_type": "code",
      "source": [
        "\n",
        "prob_change_A = 0.8\n",
        "prob_change_B = 0.5\n",
        "prob_change_C = 0.3\n",
        "\n",
        "\n",
        "prob_no_change_A = 1 - prob_change_A\n",
        "prob_no_change_B = 1 - prob_change_B\n",
        "prob_no_change_C = 1 - prob_change_C\n",
        "\n",
        "\n",
        "ratio_A = 1\n",
        "ratio_B = 2\n",
        "ratio_C = 4\n",
        "\n",
        "\n",
        "total_ratio = ratio_A + ratio_B + ratio_C\n",
        "\n",
        "\n",
        "prob_select_A = ratio_A / total_ratio\n",
        "prob_select_B = ratio_B / total_ratio\n",
        "prob_select_C = ratio_C / total_ratio\n",
        "\n",
        "\n",
        "prob_no_change_given_A = prob_no_change_A * prob_select_A\n",
        "prob_no_change_given_B = prob_no_change_B * prob_select_B\n",
        "prob_no_change_given_C = prob_no_change_C * prob_select_C\n",
        "\n",
        "prob_no_change = prob_no_change_given_A + prob_no_change_given_B + prob_no_change_given_C\n",
        "\n",
        "\n",
        "prob_selection_C = prob_select_C\n",
        "\n",
        "\n",
        "prob_no_change_given_C_total = 1 - prob_no_change_given_C\n",
        "\n",
        "\n",
        "prob_no_change_due_to_C = (prob_no_change_given_C_total * prob_no_change) / prob_selection_C\n",
        "\n",
        "print(\"Probability that if the change does not take place, it is due to the appointment of C:\", prob_no_change_due_to_C)\n"
      ],
      "metadata": {
        "colab": {
          "base_uri": "https://localhost:8080/"
        },
        "id": "GLIJrx6GljYc",
        "outputId": "6a75005e-3557-427a-ead7-7c6604017823"
      },
      "execution_count": 27,
      "outputs": [
        {
          "output_type": "stream",
          "name": "stdout",
          "text": [
            "Probability that if the change does not take place, it is due to the appointment of C: 0.6000000000000001\n"
          ]
        }
      ]
    },
    {
      "cell_type": "markdown",
      "source": [
        "3.A new virus test has been developed. The test’s accuracy is as follows:\n",
        "If a person is infected, the test correctly identifies it with probability P(T|I) = 0.98.\n",
        "If a person is not infected, the test incorrectly identifies them as infected with probability\n",
        "P(T|N) = 0.03.\n",
        "The overall prevalence of the virus in the population is 1%.\n",
        "If a person tests positive, what is the probability that they are actually infected?"
      ],
      "metadata": {
        "id": "e2EV4YLhmgGx"
      }
    },
    {
      "cell_type": "markdown",
      "source": [
        "Let's define the following events:\n",
        "\n",
        "𝐼\n",
        "I: The person is infected.\n",
        "𝑁\n",
        "N: The person is not infected.\n",
        "𝑇\n",
        "T: The person tests positive for the virus.\n",
        "Given:\n",
        "\n",
        "𝑃\n",
        "(\n",
        "𝑇\n",
        "∣\n",
        "𝐼\n",
        ")\n",
        "=\n",
        "0.98\n",
        "P(T∣I)=0.98 (Probability of testing positive given the person is infected).\n",
        "𝑃\n",
        "(\n",
        "𝑇\n",
        "∣\n",
        "𝑁\n",
        ")\n",
        "=\n",
        "0.03\n",
        "P(T∣N)=0.03 (Probability of testing positive given the person is not infected).\n",
        "The overall prevalence of the virus in the population is 1%, which means\n",
        "𝑃\n",
        "(\n",
        "𝐼\n",
        ")\n",
        "=\n",
        "0.01\n",
        "P(I)=0.01.\n",
        "We need to find\n",
        "𝑃\n",
        "(\n",
        "𝐼\n",
        "∣\n",
        "𝑇\n",
        ")\n",
        "P(I∣T), the probability that a person is infected given that they tested positive.\n",
        "\n",
        "Using Bayes' Theorem:\n",
        "𝑃\n",
        "(\n",
        "𝐼\n",
        "∣\n",
        "𝑇\n",
        ")\n",
        "=\n",
        "𝑃\n",
        "(\n",
        "𝑇\n",
        "∣\n",
        "𝐼\n",
        ")\n",
        "×\n",
        "𝑃\n",
        "(\n",
        "𝐼\n",
        ")\n",
        "𝑃\n",
        "(\n",
        "𝑇\n",
        ")\n",
        "P(I∣T)=\n",
        "P(T)\n",
        "P(T∣I)×P(I)\n",
        "​\n",
        "\n"
      ],
      "metadata": {
        "id": "_Pny2odMmtkt"
      }
    },
    {
      "cell_type": "code",
      "source": [
        "# Given probabilities\n",
        "prob_infected = 0.01\n",
        "prob_not_infected = 1 - prob_infected\n",
        "prob_positive_given_infected = 0.98\n",
        "prob_positive_given_not_infected = 0.03\n",
        "\n",
        "\n",
        "prob_positive = (prob_positive_given_infected * prob_infected) + (prob_positive_given_not_infected * prob_not_infected)\n",
        "\n",
        "\n",
        "prob_infected_given_positive = (prob_positive_given_infected * prob_infected) / prob_positive\n",
        "\n",
        "print(\"Probability that a person is infected given that they tested positive:\", prob_infected_given_positive)\n"
      ],
      "metadata": {
        "colab": {
          "base_uri": "https://localhost:8080/"
        },
        "id": "VsxfSL6fmxFV",
        "outputId": "a3c38ab7-5d32-4979-cc92-c412ae6f0e93"
      },
      "execution_count": 29,
      "outputs": [
        {
          "output_type": "stream",
          "name": "stdout",
          "text": [
            "Probability that a person is infected given that they tested positive: 0.24810126582278486\n"
          ]
        }
      ]
    },
    {
      "cell_type": "markdown",
      "source": [
        "4.There are three identical cards except that both the sides of the first card are coloured red,\n",
        "both sides of the second card are coloured blue and for the third card one side is coloured\n",
        "red and the other side is blue. One card is randomly selected from these three cards and\n",
        "put down and the visible side of the card is red. What is the probability that the other side\n",
        "is blue?"
      ],
      "metadata": {
        "id": "l7RHKJZAm7SY"
      }
    },
    {
      "cell_type": "markdown",
      "source": [
        "To solve this problem, let's analyze the possibilities:\n",
        "\n",
        "If the red side is facing up, then the card must be either the first or the third card, because both sides of the second card are blue.\n",
        "If the card is the first one (both sides red), then the other side must be red.\n",
        "If the card is the third one (one side red, one side blue), then the other side must be blue.\n",
        "Since each card is equally likely to be chosen, the probability of selecting each card is\n",
        "1\n",
        "3\n",
        "3\n",
        "1\n",
        "​\n",
        " .\n",
        "\n",
        "Therefore, the probability that the other side is blue, given that the visible side is red, is the probability that the third card is chosen, which is\n",
        "1\n",
        "3\n",
        "3\n",
        "1\n",
        "​\n",
        " .\n",
        "\n",
        "So, the probability that the other side is blue is\n",
        "1\n",
        "3\n",
        "3\n",
        "1\n",
        "​\n",
        " .\n",
        "\n"
      ],
      "metadata": {
        "id": "Cv9e0FhEm8vY"
      }
    },
    {
      "cell_type": "code",
      "source": [
        "def probability_other_side_blue():\n",
        "\n",
        "    total_cards = 3\n",
        "\n",
        "\n",
        "    blue_one_side = 1\n",
        "\n",
        "\n",
        "    prob_blue_one_side = blue_one_side / total_cards\n",
        "\n",
        "    return prob_blue_one_side\n",
        "\n",
        "probability_blue_other_side = probability_other_side_blue()\n",
        "print(\"Probability that the other side is blue:\", probability_blue_other_side)\n"
      ],
      "metadata": {
        "colab": {
          "base_uri": "https://localhost:8080/"
        },
        "id": "8L0evdixnMO8",
        "outputId": "ee9a3dbc-0aab-4b7c-8a21-1cd9657a7a81"
      },
      "execution_count": 31,
      "outputs": [
        {
          "output_type": "stream",
          "name": "stdout",
          "text": [
            "Probability that the other side is blue: 0.3333333333333333\n"
          ]
        }
      ]
    }
  ]
}